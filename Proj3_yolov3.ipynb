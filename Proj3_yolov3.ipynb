{
  "nbformat": 4,
  "nbformat_minor": 0,
  "metadata": {
    "colab": {
      "name": "Proj3_yolov3",
      "provenance": [],
      "collapsed_sections": [],
      "authorship_tag": "ABX9TyNaSyoDntYEZa6xahYUUJuV",
      "include_colab_link": true
    },
    "kernelspec": {
      "name": "python3",
      "display_name": "Python 3"
    },
    "language_info": {
      "name": "python"
    },
    "accelerator": "GPU"
  },
  "cells": [
    {
      "cell_type": "markdown",
      "metadata": {
        "id": "view-in-github",
        "colab_type": "text"
      },
      "source": [
        "<a href=\"https://colab.research.google.com/github/braveendran27/OCV_2_Proj3/blob/master/Proj3_yolov3.ipynb\" target=\"_parent\"><img src=\"https://colab.research.google.com/assets/colab-badge.svg\" alt=\"Open In Colab\"/></a>"
      ]
    },
    {
      "cell_type": "code",
      "metadata": {
        "colab": {
          "base_uri": "https://localhost:8080/"
        },
        "id": "7I-XHuFBTQ8M",
        "outputId": "57184671-ae04-4443-b761-a72bf296c145"
      },
      "source": [
        "from google.colab import drive\n",
        "drive.mount('/content/drive')\n",
        "\n",
        "# the notebook expects OpenCV/C2_P3 folder in My Driver\n",
        "%cd /content/drive/My\\ Drive/\n",
        "\n"
      ],
      "execution_count": 1,
      "outputs": [
        {
          "output_type": "stream",
          "name": "stdout",
          "text": [
            "Mounted at /content/drive\n",
            "/content/drive/My Drive\n"
          ]
        }
      ]
    },
    {
      "cell_type": "code",
      "metadata": {
        "id": "xF8zae_AU1pZ",
        "colab": {
          "base_uri": "https://localhost:8080/"
        },
        "outputId": "682fd80e-e2e2-43c4-c635-0062d0615f49"
      },
      "source": [
        "#1. Downloading the repo \n",
        "#2. building darknet \n",
        "#3. downloading the trainign images and test images\n",
        "\n",
        "!git clone https://github.com/braveendran27/OCV_2_Proj3.git\n",
        "%cd OCV_2_Proj3\n",
        "\n",
        "\n",
        "\n",
        "\n"
      ],
      "execution_count": 2,
      "outputs": [
        {
          "output_type": "stream",
          "name": "stdout",
          "text": [
            "Cloning into 'OCV_2_Proj3'...\n",
            "remote: Enumerating objects: 289, done.\u001b[K\n",
            "remote: Counting objects: 100% (289/289), done.\u001b[K\n",
            "remote: Compressing objects: 100% (230/230), done.\u001b[K\n",
            "remote: Total 289 (delta 58), reused 272 (delta 47), pack-reused 0\u001b[K\n",
            "Receiving objects: 100% (289/289), 6.91 MiB | 9.01 MiB/s, done.\n",
            "Resolving deltas: 100% (58/58), done.\n",
            "/content/drive/My Drive/OCV_2_Proj3\n"
          ]
        }
      ]
    },
    {
      "cell_type": "code",
      "metadata": {
        "id": "N7IV5IX5tp1D",
        "colab": {
          "base_uri": "https://localhost:8080/"
        },
        "outputId": "f4b0ed71-126b-420c-bac1-becf493a169e"
      },
      "source": [
        "#building darknet : Darknet source code is already included as a part of my repo\n",
        "!git clone https://github.com/AlexeyAB/darknet.git\n",
        "%cd darknet\n",
        "!sed -i 's/OPENCV=0/OPENCV=1/' Makefile\n",
        "!sed -i 's/GPU=0/GPU=1/' Makefile\n",
        "!sed -i 's/CUDNN=0/CUDNN=1/' Makefile\n",
        "print(\"Building. . . It might take 2 minutes\")\n",
        "!make &> build_log.txt\n",
        "print(\"Build completed.\")\n",
        "%cd .."
      ],
      "execution_count": 3,
      "outputs": [
        {
          "output_type": "stream",
          "name": "stdout",
          "text": [
            "Cloning into 'darknet'...\n",
            "remote: Enumerating objects: 15316, done.\u001b[K\n",
            "remote: Total 15316 (delta 0), reused 0 (delta 0), pack-reused 15316\u001b[K\n",
            "Receiving objects: 100% (15316/15316), 13.70 MiB | 4.84 MiB/s, done.\n",
            "Resolving deltas: 100% (10407/10407), done.\n",
            "Checking out files: 100% (2043/2043), done.\n",
            "/content/drive/My Drive/OCV_2_Proj3/darknet\n",
            "Building. . . It might take 2 minutes\n",
            "Build completed.\n"
          ]
        }
      ]
    },
    {
      "cell_type": "code",
      "metadata": {
        "id": "3_08eqYxoZ43",
        "colab": {
          "base_uri": "https://localhost:8080/"
        },
        "outputId": "070d17e7-ff36-414c-f912-b58d4e99351b"
      },
      "source": [
        "\n",
        "!mkdir mask_no-mask_dataset\n",
        "%cd mask_no-mask_dataset\n",
        "#get the training images\n",
        "!wget \"https://www.dropbox.com/s/uq0x32w70c390fb/mask_no-mask_dataset.zip?dl=1\" -O mask_no-mask_dataset.zip\n",
        "!unzip mask_no-mask_dataset.zip &> /dev/null\n",
        "%cd ..\n",
        "\n",
        "%cd test\n",
        "!wget \"https://www.dropbox.com/s/pds0w3z5y7w89oz/test-video1.mp4?dl=1\" -O ./test-video1.mp4\n",
        "!wget \"https://www.dropbox.com/s/sqwu0ktdtlxtdsd/test-video2.mp4?dl=1\" -O ./test-video2.mp4\n",
        "%cd .."
      ],
      "execution_count": 4,
      "outputs": [
        {
          "output_type": "stream",
          "name": "stdout",
          "text": [
            "--2021-10-11 23:41:27--  https://www.dropbox.com/s/uq0x32w70c390fb/mask_no-mask_dataset.zip?dl=1\n",
            "Resolving www.dropbox.com (www.dropbox.com)... 162.125.81.18, 2620:100:6035:18::a27d:5512\n",
            "Connecting to www.dropbox.com (www.dropbox.com)|162.125.81.18|:443... connected.\n",
            "HTTP request sent, awaiting response... 301 Moved Permanently\n",
            "Location: /s/dl/uq0x32w70c390fb/mask_no-mask_dataset.zip [following]\n",
            "--2021-10-11 23:41:28--  https://www.dropbox.com/s/dl/uq0x32w70c390fb/mask_no-mask_dataset.zip\n",
            "Reusing existing connection to www.dropbox.com:443.\n",
            "HTTP request sent, awaiting response... 302 Found\n",
            "Location: https://uce9c9de780e7b58c10b8ed2877e.dl.dropboxusercontent.com/cd/0/get/BX14p2W945_FUOdAewkvpQXlrhJunsBXXS1_75-TWg0feRbZzTWRDZCA9cchZnduDm7JjHOdxvjS80kq6bAcCoJbU3jxdOzam2PyVoveojXgtRp6HrrB3WXZPhSeC8AMxpf4iPfTBRntVOYu_torCa1Z/file?dl=1# [following]\n",
            "--2021-10-11 23:41:28--  https://uce9c9de780e7b58c10b8ed2877e.dl.dropboxusercontent.com/cd/0/get/BX14p2W945_FUOdAewkvpQXlrhJunsBXXS1_75-TWg0feRbZzTWRDZCA9cchZnduDm7JjHOdxvjS80kq6bAcCoJbU3jxdOzam2PyVoveojXgtRp6HrrB3WXZPhSeC8AMxpf4iPfTBRntVOYu_torCa1Z/file?dl=1\n",
            "Resolving uce9c9de780e7b58c10b8ed2877e.dl.dropboxusercontent.com (uce9c9de780e7b58c10b8ed2877e.dl.dropboxusercontent.com)... 162.125.81.15, 2620:100:6035:15::a27d:550f\n",
            "Connecting to uce9c9de780e7b58c10b8ed2877e.dl.dropboxusercontent.com (uce9c9de780e7b58c10b8ed2877e.dl.dropboxusercontent.com)|162.125.81.15|:443... connected.\n",
            "HTTP request sent, awaiting response... 200 OK\n",
            "Length: 225433549 (215M) [application/binary]\n",
            "Saving to: ‘mask_no-mask_dataset.zip’\n",
            "\n",
            "mask_no-mask_datase 100%[===================>] 214.99M  13.6MB/s    in 20s     \n",
            "\n",
            "2021-10-11 23:41:49 (10.8 MB/s) - ‘mask_no-mask_dataset.zip’ saved [225433549/225433549]\n",
            "\n",
            "/bin/bash: line 0: cd: test: No such file or directory\n",
            "--2021-10-11 23:42:25--  https://www.dropbox.com/s/pds0w3z5y7w89oz/test-video1.mp4?dl=1\n",
            "Resolving www.dropbox.com (www.dropbox.com)... 162.125.80.18, 2620:100:6035:18::a27d:5512\n",
            "Connecting to www.dropbox.com (www.dropbox.com)|162.125.80.18|:443... connected.\n",
            "HTTP request sent, awaiting response... 301 Moved Permanently\n",
            "Location: /s/dl/pds0w3z5y7w89oz/test-video1.mp4 [following]\n",
            "--2021-10-11 23:42:26--  https://www.dropbox.com/s/dl/pds0w3z5y7w89oz/test-video1.mp4\n",
            "Reusing existing connection to www.dropbox.com:443.\n",
            "HTTP request sent, awaiting response... 302 Found\n",
            "Location: https://ucaabd2ee53fd649d25e83c67747.dl.dropboxusercontent.com/cd/0/get/BX3QKFewcSfSeix03fCK78C16zUMUJ47ubhTgB3P2XA9WdjR5kPgTJi1K19-gI2uBUlqwjE31t_nI5RFtfalp8sTmi5o1TkYYh4__9Yp_yRdxMl9LhPa8RJ_vdXM77toCvZUb2YPby7Bo31cUhEZ_plr/file?dl=1# [following]\n",
            "--2021-10-11 23:42:26--  https://ucaabd2ee53fd649d25e83c67747.dl.dropboxusercontent.com/cd/0/get/BX3QKFewcSfSeix03fCK78C16zUMUJ47ubhTgB3P2XA9WdjR5kPgTJi1K19-gI2uBUlqwjE31t_nI5RFtfalp8sTmi5o1TkYYh4__9Yp_yRdxMl9LhPa8RJ_vdXM77toCvZUb2YPby7Bo31cUhEZ_plr/file?dl=1\n",
            "Resolving ucaabd2ee53fd649d25e83c67747.dl.dropboxusercontent.com (ucaabd2ee53fd649d25e83c67747.dl.dropboxusercontent.com)... 162.125.80.15, 2620:100:6035:15::a27d:550f\n",
            "Connecting to ucaabd2ee53fd649d25e83c67747.dl.dropboxusercontent.com (ucaabd2ee53fd649d25e83c67747.dl.dropboxusercontent.com)|162.125.80.15|:443... connected.\n",
            "HTTP request sent, awaiting response... 200 OK\n",
            "Length: 19670909 (19M) [application/binary]\n",
            "Saving to: ‘./test-video1.mp4’\n",
            "\n",
            "./test-video1.mp4   100%[===================>]  18.76M  15.1MB/s    in 1.2s    \n",
            "\n",
            "2021-10-11 23:42:28 (15.1 MB/s) - ‘./test-video1.mp4’ saved [19670909/19670909]\n",
            "\n",
            "--2021-10-11 23:42:28--  https://www.dropbox.com/s/sqwu0ktdtlxtdsd/test-video2.mp4?dl=1\n",
            "Resolving www.dropbox.com (www.dropbox.com)... 162.125.80.18, 2620:100:6035:18::a27d:5512\n",
            "Connecting to www.dropbox.com (www.dropbox.com)|162.125.80.18|:443... connected.\n",
            "HTTP request sent, awaiting response... 301 Moved Permanently\n",
            "Location: /s/dl/sqwu0ktdtlxtdsd/test-video2.mp4 [following]\n",
            "--2021-10-11 23:42:29--  https://www.dropbox.com/s/dl/sqwu0ktdtlxtdsd/test-video2.mp4\n",
            "Reusing existing connection to www.dropbox.com:443.\n",
            "HTTP request sent, awaiting response... 302 Found\n",
            "Location: https://uc0f9ae26ca722f2a3e98aee6abc.dl.dropboxusercontent.com/cd/0/get/BX0QFxQAWM0spff2swxedjpFf7KnEpcR0jWBRat6Pj1X05pl0Gj9Umc3bnf4abpH_pwNfPATjoGM1dbncEYq1kVByeuJNn46TPiGWA6MIfO8X6_NM1DTUFsVK1ukNjypo2Fdn1k2sZ2MhXVYHwQfY2KH/file?dl=1# [following]\n",
            "--2021-10-11 23:42:29--  https://uc0f9ae26ca722f2a3e98aee6abc.dl.dropboxusercontent.com/cd/0/get/BX0QFxQAWM0spff2swxedjpFf7KnEpcR0jWBRat6Pj1X05pl0Gj9Umc3bnf4abpH_pwNfPATjoGM1dbncEYq1kVByeuJNn46TPiGWA6MIfO8X6_NM1DTUFsVK1ukNjypo2Fdn1k2sZ2MhXVYHwQfY2KH/file?dl=1\n",
            "Resolving uc0f9ae26ca722f2a3e98aee6abc.dl.dropboxusercontent.com (uc0f9ae26ca722f2a3e98aee6abc.dl.dropboxusercontent.com)... 162.125.81.15, 2620:100:6035:15::a27d:550f\n",
            "Connecting to uc0f9ae26ca722f2a3e98aee6abc.dl.dropboxusercontent.com (uc0f9ae26ca722f2a3e98aee6abc.dl.dropboxusercontent.com)|162.125.81.15|:443... connected.\n",
            "HTTP request sent, awaiting response... 200 OK\n",
            "Length: 40890863 (39M) [application/binary]\n",
            "Saving to: ‘./test-video2.mp4’\n",
            "\n",
            "./test-video2.mp4   100%[===================>]  39.00M  11.5MB/s    in 4.0s    \n",
            "\n",
            "2021-10-11 23:42:34 (9.73 MB/s) - ‘./test-video2.mp4’ saved [40890863/40890863]\n",
            "\n"
          ]
        }
      ]
    },
    {
      "cell_type": "code",
      "metadata": {
        "colab": {
          "base_uri": "https://localhost:8080/"
        },
        "id": "jpN6u4TJaeyp",
        "outputId": "9d17ad02-a53f-4353-f6c3-5b8df9bed2f3"
      },
      "source": [
        "#trainign yolo v3\n",
        "!cd yolov3/\n",
        "#download the initial weights darknet53.conv\n",
        "!wget \"https://www.dropbox.com/s/18dwbfth7prbf0h/darknet53.conv.74?dl=1\" -O darknet53.conv.74\n",
        "#start the training\n",
        "!./../darknet/darknet detector train yolov3-mask-setup.data yolov3-mask-train.cfg ./darknet53.conv.74 -dont_show -map 2> train_log.txt\n",
        "\n",
        "\n"
      ],
      "execution_count": null,
      "outputs": [
        {
          "output_type": "stream",
          "name": "stdout",
          "text": [
            "/content/drive/My Drive/OCV_2_Proj3/test\n",
            "--2021-10-11 22:31:18--  https://www.dropbox.com/s/pds0w3z5y7w89oz/test-video1.mp4?dl=1\n",
            "Resolving www.dropbox.com (www.dropbox.com)... 162.125.65.18, 2620:100:6027:18::a27d:4812\n",
            "Connecting to www.dropbox.com (www.dropbox.com)|162.125.65.18|:443... connected.\n",
            "HTTP request sent, awaiting response... 301 Moved Permanently\n",
            "Location: /s/dl/pds0w3z5y7w89oz/test-video1.mp4 [following]\n",
            "--2021-10-11 22:31:19--  https://www.dropbox.com/s/dl/pds0w3z5y7w89oz/test-video1.mp4\n",
            "Reusing existing connection to www.dropbox.com:443.\n",
            "HTTP request sent, awaiting response... 302 Found\n",
            "Location: https://ucfc926e1b3aec32aebddfdf5f5f.dl.dropboxusercontent.com/cd/0/get/BX1gm3o0mNiTFNb89D9_bx0Oa5ew0e6A97n5Mqg4nt5ccEdAO74-cBacVWlrmBdnn6LCvFJHz7033f5_W_dBY2JdqibO5AdCya3IJjlFW5OVHcvPOK3RddUM9JdmJGA0drd4e1_251ouSQHAewkEtf0k/file?dl=1# [following]\n",
            "--2021-10-11 22:31:19--  https://ucfc926e1b3aec32aebddfdf5f5f.dl.dropboxusercontent.com/cd/0/get/BX1gm3o0mNiTFNb89D9_bx0Oa5ew0e6A97n5Mqg4nt5ccEdAO74-cBacVWlrmBdnn6LCvFJHz7033f5_W_dBY2JdqibO5AdCya3IJjlFW5OVHcvPOK3RddUM9JdmJGA0drd4e1_251ouSQHAewkEtf0k/file?dl=1\n",
            "Resolving ucfc926e1b3aec32aebddfdf5f5f.dl.dropboxusercontent.com (ucfc926e1b3aec32aebddfdf5f5f.dl.dropboxusercontent.com)... 162.125.2.15, 2620:100:6027:15::a27d:480f\n",
            "Connecting to ucfc926e1b3aec32aebddfdf5f5f.dl.dropboxusercontent.com (ucfc926e1b3aec32aebddfdf5f5f.dl.dropboxusercontent.com)|162.125.2.15|:443... connected.\n",
            "HTTP request sent, awaiting response... 200 OK\n",
            "Length: 19670909 (19M) [application/binary]\n",
            "Saving to: ‘./test-video1.mp4’\n",
            "\n",
            "./test-video1.mp4   100%[===================>]  18.76M  9.88MB/s    in 1.9s    \n",
            "\n",
            "2021-10-11 22:31:22 (9.88 MB/s) - ‘./test-video1.mp4’ saved [19670909/19670909]\n",
            "\n",
            "--2021-10-11 22:31:22--  https://www.dropbox.com/s/sqwu0ktdtlxtdsd/test-video2.mp4?dl=1\n",
            "Resolving www.dropbox.com (www.dropbox.com)... 162.125.65.18, 2620:100:6027:18::a27d:4812\n",
            "Connecting to www.dropbox.com (www.dropbox.com)|162.125.65.18|:443... connected.\n",
            "HTTP request sent, awaiting response... 301 Moved Permanently\n",
            "Location: /s/dl/sqwu0ktdtlxtdsd/test-video2.mp4 [following]\n",
            "--2021-10-11 22:31:22--  https://www.dropbox.com/s/dl/sqwu0ktdtlxtdsd/test-video2.mp4\n",
            "Reusing existing connection to www.dropbox.com:443.\n",
            "HTTP request sent, awaiting response... 302 Found\n",
            "Location: https://ucdc5f2fa7c327f8dcf236eb7d72.dl.dropboxusercontent.com/cd/0/get/BX3l43_R5MsgR--BMzXna5sKEQEHc3f3vZ4j90wJcKxO5pNR2AmGyf2QThr_tM9uYSLd2OHaFjO0Rr0dGaprJh0nOBvFrS8W1Am-8T3BP7Y2jj65t0uZHviErpMnJ9YHokJNqFMCoOo-_xexFQbTbi4c/file?dl=1# [following]\n",
            "--2021-10-11 22:31:23--  https://ucdc5f2fa7c327f8dcf236eb7d72.dl.dropboxusercontent.com/cd/0/get/BX3l43_R5MsgR--BMzXna5sKEQEHc3f3vZ4j90wJcKxO5pNR2AmGyf2QThr_tM9uYSLd2OHaFjO0Rr0dGaprJh0nOBvFrS8W1Am-8T3BP7Y2jj65t0uZHviErpMnJ9YHokJNqFMCoOo-_xexFQbTbi4c/file?dl=1\n",
            "Resolving ucdc5f2fa7c327f8dcf236eb7d72.dl.dropboxusercontent.com (ucdc5f2fa7c327f8dcf236eb7d72.dl.dropboxusercontent.com)... 162.125.65.15, 2620:100:6027:15::a27d:480f\n",
            "Connecting to ucdc5f2fa7c327f8dcf236eb7d72.dl.dropboxusercontent.com (ucdc5f2fa7c327f8dcf236eb7d72.dl.dropboxusercontent.com)|162.125.65.15|:443... connected.\n",
            "HTTP request sent, awaiting response... 200 OK\n",
            "Length: 40890863 (39M) [application/binary]\n",
            "Saving to: ‘./test-video2.mp4’\n",
            "\n",
            "./test-video2.mp4   100%[===================>]  39.00M  17.4MB/s    in 2.2s    \n",
            "\n",
            "2021-10-11 22:31:26 (17.4 MB/s) - ‘./test-video2.mp4’ saved [40890863/40890863]\n",
            "\n",
            "/content/drive/My Drive/OCV_2_Proj3\n"
          ]
        }
      ]
    },
    {
      "cell_type": "code",
      "metadata": {
        "id": "0gMgbe7jgobV"
      },
      "source": [
        "#Run the inference\n",
        "./../darknet/darknet detector test yolov3-mask-setup.data yolov3-mask-test.cfg ./maskbackup/yolov3-mask-train_best.weights ./../test/test-image1.jpg -thresh .6 -dont_show 2>/dev/null \n",
        "mv  predictions.jpg ./output/test-image1_pred.jpg\n",
        "\n",
        "./../darknet/darknet detector test yolov3-mask-setup.data yolov3-mask-test.cfg ./maskbackup/yolov3-mask-train_best.weights ./../test/test-image2.jpg -thresh .6 -dont_show 2>/dev/null \n",
        "mv  predictions.jpg ./output/test-image2_pred.jpg\n",
        "\n",
        "./../darknet/darknet detector test yolov3-mask-setup.data yolov3-mask-test.cfg ./maskbackup/yolov3-mask-train_best.weights ./../test/test-image3.jpg -thresh .6 -dont_show 2>/dev/null \n",
        "mv  predictions.jpg ./output/test-image3_pred.jpg\n",
        "\n",
        "./../darknet/darknet detector test yolov3-mask-setup.data yolov3-mask-test.cfg ./maskbackup/yolov3-mask-train_best.weights ./../test/test-image4.jpg -thresh .6 -dont_show 2>/dev/null \n",
        "mv  predictions.jpg ./output/test-image4_pred.jpg\n",
        "\n",
        "./../darknet/darknet detector demo yolov3-mask-setup.data yolov3-mask-test.cfg ./maskbackup/yolov3-mask-train_best.weights ./../test/test-video1.mp4 -thresh .6 -out_filename ./output/out-vid1.avi -dont_show\n",
        "\n",
        "\n",
        "./../darknet/darknet detector demo yolov3-mask-setup.data yolov3-mask-test.cfg ./maskbackup/yolov3-mask-train_best.weights ./../test/test-video2.mp4 -thresh .6 -out_filename ./output/out-vid2.avi -dont_show\n"
      ],
      "execution_count": null,
      "outputs": []
    },
    {
      "cell_type": "markdown",
      "metadata": {
        "id": "VwU7XiYJTSSu"
      },
      "source": [
        "# New Section"
      ]
    },
    {
      "cell_type": "markdown",
      "metadata": {
        "id": "O-2ilLm6TSsb"
      },
      "source": [
        "# New Section"
      ]
    }
  ]
}