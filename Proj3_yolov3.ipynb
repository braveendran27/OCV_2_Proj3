{
  "nbformat": 4,
  "nbformat_minor": 0,
  "metadata": {
    "colab": {
      "name": "Proj3_yolov3",
      "provenance": [],
      "collapsed_sections": [],
      "authorship_tag": "ABX9TyM9VZSJjl8MDeJkFwnvut5s",
      "include_colab_link": true
    },
    "kernelspec": {
      "name": "python3",
      "display_name": "Python 3"
    },
    "language_info": {
      "name": "python"
    },
    "accelerator": "GPU"
  },
  "cells": [
    {
      "cell_type": "markdown",
      "metadata": {
        "id": "view-in-github",
        "colab_type": "text"
      },
      "source": [
        "<a href=\"https://colab.research.google.com/github/braveendran27/OCV_2_Proj3/blob/master/Proj3_yolov3.ipynb\" target=\"_parent\"><img src=\"https://colab.research.google.com/assets/colab-badge.svg\" alt=\"Open In Colab\"/></a>"
      ]
    },
    {
      "cell_type": "code",
      "metadata": {
        "colab": {
          "base_uri": "https://localhost:8080/"
        },
        "id": "7I-XHuFBTQ8M",
        "outputId": "616866ac-02fb-42e5-8d2f-d3492ba34424"
      },
      "source": [
        "from google.colab import drive\n",
        "drive.mount('/content/drive')\n",
        "\n",
        "# the notebook expects OpenCV/C2_P3 folder in My Driver\n",
        "%cd /content/drive/My\\ Drive/\n",
        "\n"
      ],
      "execution_count": 1,
      "outputs": [
        {
          "output_type": "stream",
          "name": "stdout",
          "text": [
            "Mounted at /content/drive\n",
            "/content/drive/My Drive\n"
          ]
        }
      ]
    },
    {
      "cell_type": "code",
      "metadata": {
        "id": "xF8zae_AU1pZ",
        "colab": {
          "base_uri": "https://localhost:8080/"
        },
        "outputId": "f012263b-8962-483b-ab0a-4688cb1ec3c9"
      },
      "source": [
        "#1. Downloading the repo \n",
        "#2. building darknet \n",
        "#3. downloading the trainign images and test images\n",
        "\n",
        "!git clone https://github.com/braveendran27/OCV_2_Proj3.git\n",
        "%cd OCV_2_Proj3\n",
        "\n",
        "#building darknet : Darknet source code is already included as a part of my repo\n",
        "%cd darknet\n",
        "!make &> build_log.txt\n",
        "%cd ..\n",
        "%pwd\n",
        "\n",
        "!mkdir mask_no-mask_dataset\n",
        "%cd mask_no-mask_dataset\n",
        "#get the training images\n",
        "!wget \"https://www.dropbox.com/s/uq0x32w70c390fb/mask_no-mask_dataset.zip?dl=1\" -O mask_no-mask_dataset.zip\n",
        "!unzip mask_no-mask_dataset.zip &> /dev/null\n",
        "%cd ..\n",
        "\n",
        "%cd test\n",
        "!wget \"https://www.dropbox.com/s/pds0w3z5y7w89oz/test-video1.mp4?dl=1\" -O ./test-video1.mp4\n",
        "!wget \"https://www.dropbox.com/s/sqwu0ktdtlxtdsd/test-video2.mp4?dl=1\" -O ./test-video2.mp4\n",
        "%cd ..\n",
        "\n"
      ],
      "execution_count": 2,
      "outputs": [
        {
          "output_type": "stream",
          "name": "stdout",
          "text": [
            "Cloning into 'OCV_2_Proj3'...\n",
            "remote: Enumerating objects: 284, done.\u001b[K\n",
            "remote: Counting objects: 100% (284/284), done.\u001b[K\n",
            "remote: Compressing objects: 100% (225/225), done.\u001b[K\n",
            "remote: Total 284 (delta 54), reused 272 (delta 47), pack-reused 0\u001b[K\n",
            "Receiving objects: 100% (284/284), 6.90 MiB | 8.26 MiB/s, done.\n",
            "Resolving deltas: 100% (54/54), done.\n",
            "Checking out files: 100% (249/249), done.\n",
            "/content/drive/My Drive/OCV_2_Proj3\n",
            "/content/drive/My Drive/OCV_2_Proj3/darknet\n",
            "/content/drive/My Drive/OCV_2_Proj3\n",
            "/content/drive/My Drive/OCV_2_Proj3/mask_no-mask_dataset\n",
            "--2021-10-11 22:45:34--  https://www.dropbox.com/s/uq0x32w70c390fb/mask_no-mask_dataset.zip?dl=1\n",
            "Resolving www.dropbox.com (www.dropbox.com)... 162.125.1.18, 2620:100:6016:18::a27d:112\n",
            "Connecting to www.dropbox.com (www.dropbox.com)|162.125.1.18|:443... connected.\n",
            "HTTP request sent, awaiting response... 301 Moved Permanently\n",
            "Location: /s/dl/uq0x32w70c390fb/mask_no-mask_dataset.zip [following]\n",
            "--2021-10-11 22:45:34--  https://www.dropbox.com/s/dl/uq0x32w70c390fb/mask_no-mask_dataset.zip\n",
            "Reusing existing connection to www.dropbox.com:443.\n",
            "HTTP request sent, awaiting response... 302 Found\n",
            "Location: https://uc2bd147afdf074cd3526b91b540.dl.dropboxusercontent.com/cd/0/get/BX0aQQLhysv0rZyPh7KgbNPO0pg-XkQ3ZhwstjfeNg27rbGFkBGNA9sK1DkkLU52GvWXBgVM8mJLoUfsFl621WVFlpEqyV3SoHWGvqvSDhKtqJ3W11RmnKNJwzW-gv76fgKlyrGyRM80tvM7g3memOD_/file?dl=1# [following]\n",
            "--2021-10-11 22:45:35--  https://uc2bd147afdf074cd3526b91b540.dl.dropboxusercontent.com/cd/0/get/BX0aQQLhysv0rZyPh7KgbNPO0pg-XkQ3ZhwstjfeNg27rbGFkBGNA9sK1DkkLU52GvWXBgVM8mJLoUfsFl621WVFlpEqyV3SoHWGvqvSDhKtqJ3W11RmnKNJwzW-gv76fgKlyrGyRM80tvM7g3memOD_/file?dl=1\n",
            "Resolving uc2bd147afdf074cd3526b91b540.dl.dropboxusercontent.com (uc2bd147afdf074cd3526b91b540.dl.dropboxusercontent.com)... 162.125.1.15, 2620:100:6016:15::a27d:10f\n",
            "Connecting to uc2bd147afdf074cd3526b91b540.dl.dropboxusercontent.com (uc2bd147afdf074cd3526b91b540.dl.dropboxusercontent.com)|162.125.1.15|:443... connected.\n",
            "HTTP request sent, awaiting response... 200 OK\n",
            "Length: 225433549 (215M) [application/binary]\n",
            "Saving to: ‘mask_no-mask_dataset.zip’\n",
            "\n",
            "mask_no-mask_datase 100%[===================>] 214.99M  40.7MB/s    in 5.2s    \n",
            "\n",
            "2021-10-11 22:45:40 (41.3 MB/s) - ‘mask_no-mask_dataset.zip’ saved [225433549/225433549]\n",
            "\n",
            "/content/drive/My Drive/OCV_2_Proj3\n",
            "/content/drive/My Drive/OCV_2_Proj3/test\n",
            "--2021-10-11 22:46:17--  https://www.dropbox.com/s/pds0w3z5y7w89oz/test-video1.mp4?dl=1\n",
            "Resolving www.dropbox.com (www.dropbox.com)... 162.125.1.18, 2620:100:6016:18::a27d:112\n",
            "Connecting to www.dropbox.com (www.dropbox.com)|162.125.1.18|:443... connected.\n",
            "HTTP request sent, awaiting response... 301 Moved Permanently\n",
            "Location: /s/dl/pds0w3z5y7w89oz/test-video1.mp4 [following]\n",
            "--2021-10-11 22:46:17--  https://www.dropbox.com/s/dl/pds0w3z5y7w89oz/test-video1.mp4\n",
            "Reusing existing connection to www.dropbox.com:443.\n",
            "HTTP request sent, awaiting response... 302 Found\n",
            "Location: https://uc476b371aa493d11455320a08ee.dl.dropboxusercontent.com/cd/0/get/BX222EaLiQlWLnIJx1eAYlRg6dsBQfJ5vq9pTNRvLm5hg6ea_Eecr-jkZV8i4GiDLrMAEOUasSrJ5unn8x4R_NI7cboYRcyWA1RIoahiU9p0LUN5D5jUV9CdWBehymSJPd7pi0hCItc1jeCtXe9lltbq/file?dl=1# [following]\n",
            "--2021-10-11 22:46:17--  https://uc476b371aa493d11455320a08ee.dl.dropboxusercontent.com/cd/0/get/BX222EaLiQlWLnIJx1eAYlRg6dsBQfJ5vq9pTNRvLm5hg6ea_Eecr-jkZV8i4GiDLrMAEOUasSrJ5unn8x4R_NI7cboYRcyWA1RIoahiU9p0LUN5D5jUV9CdWBehymSJPd7pi0hCItc1jeCtXe9lltbq/file?dl=1\n",
            "Resolving uc476b371aa493d11455320a08ee.dl.dropboxusercontent.com (uc476b371aa493d11455320a08ee.dl.dropboxusercontent.com)... 162.125.1.15, 2620:100:6016:15::a27d:10f\n",
            "Connecting to uc476b371aa493d11455320a08ee.dl.dropboxusercontent.com (uc476b371aa493d11455320a08ee.dl.dropboxusercontent.com)|162.125.1.15|:443... connected.\n",
            "HTTP request sent, awaiting response... 200 OK\n",
            "Length: 19670909 (19M) [application/binary]\n",
            "Saving to: ‘./test-video1.mp4’\n",
            "\n",
            "./test-video1.mp4   100%[===================>]  18.76M  40.1MB/s    in 0.5s    \n",
            "\n",
            "2021-10-11 22:46:18 (40.1 MB/s) - ‘./test-video1.mp4’ saved [19670909/19670909]\n",
            "\n",
            "--2021-10-11 22:46:19--  https://www.dropbox.com/s/sqwu0ktdtlxtdsd/test-video2.mp4?dl=1\n",
            "Resolving www.dropbox.com (www.dropbox.com)... 162.125.1.18, 2620:100:6016:18::a27d:112\n",
            "Connecting to www.dropbox.com (www.dropbox.com)|162.125.1.18|:443... connected.\n",
            "HTTP request sent, awaiting response... 301 Moved Permanently\n",
            "Location: /s/dl/sqwu0ktdtlxtdsd/test-video2.mp4 [following]\n",
            "--2021-10-11 22:46:19--  https://www.dropbox.com/s/dl/sqwu0ktdtlxtdsd/test-video2.mp4\n",
            "Reusing existing connection to www.dropbox.com:443.\n",
            "HTTP request sent, awaiting response... 302 Found\n",
            "Location: https://uc42bbdc3009088c7282b9bb4568.dl.dropboxusercontent.com/cd/0/get/BX0togiHZoI1YjJ-0s6JpEB3OqBMPcsb4FqJOGSGJGUstE2ecd2t3iouJliA-k_prPtuKYDHZbr6fn2bKJOC37EcZkdxChx-5hb96qTh_S61DTaAQBO-xQLUZdGkvzL-MsLbygNN_IlqimrmAaH05qgA/file?dl=1# [following]\n",
            "--2021-10-11 22:46:19--  https://uc42bbdc3009088c7282b9bb4568.dl.dropboxusercontent.com/cd/0/get/BX0togiHZoI1YjJ-0s6JpEB3OqBMPcsb4FqJOGSGJGUstE2ecd2t3iouJliA-k_prPtuKYDHZbr6fn2bKJOC37EcZkdxChx-5hb96qTh_S61DTaAQBO-xQLUZdGkvzL-MsLbygNN_IlqimrmAaH05qgA/file?dl=1\n",
            "Resolving uc42bbdc3009088c7282b9bb4568.dl.dropboxusercontent.com (uc42bbdc3009088c7282b9bb4568.dl.dropboxusercontent.com)... 162.125.1.15, 2620:100:6016:15::a27d:10f\n",
            "Connecting to uc42bbdc3009088c7282b9bb4568.dl.dropboxusercontent.com (uc42bbdc3009088c7282b9bb4568.dl.dropboxusercontent.com)|162.125.1.15|:443... connected.\n",
            "HTTP request sent, awaiting response... 200 OK\n",
            "Length: 40890863 (39M) [application/binary]\n",
            "Saving to: ‘./test-video2.mp4’\n",
            "\n",
            "./test-video2.mp4   100%[===================>]  39.00M  39.5MB/s    in 1.0s    \n",
            "\n",
            "2021-10-11 22:46:21 (39.5 MB/s) - ‘./test-video2.mp4’ saved [40890863/40890863]\n",
            "\n",
            "/content/drive/My Drive/OCV_2_Proj3\n"
          ]
        }
      ]
    },
    {
      "cell_type": "code",
      "metadata": {
        "colab": {
          "base_uri": "https://localhost:8080/"
        },
        "id": "jpN6u4TJaeyp",
        "outputId": "4ebaaed7-4c01-42fd-df6b-7b17fcb63e87"
      },
      "source": [
        "#trainign yolo v3\n",
        "!cd ./yolov3/\n",
        "#download the initial weights darknet53.conv\n",
        "!wget \"https://www.dropbox.com/s/18dwbfth7prbf0h/darknet53.conv.74?dl=1\" -O ./darknet53.conv.74\n",
        "#start the training\n",
        "!./../darknet/darknet detector train yolov3-mask-setup.data yolov3-mask-train.cfg ./darknet53.conv.74 -dont_show -map 2> train_log.txt\n",
        "\n",
        "\n"
      ],
      "execution_count": 2,
      "outputs": [
        {
          "output_type": "stream",
          "name": "stdout",
          "text": [
            "/bin/bash: line 0: cd: ./yolov3/: No such file or directory\n",
            "--2021-10-11 22:47:34--  https://www.dropbox.com/s/18dwbfth7prbf0h/darknet53.conv.74?dl=1\n",
            "Resolving www.dropbox.com (www.dropbox.com)... 162.125.3.18, 2620:100:601b:18::a27d:812\n",
            "Connecting to www.dropbox.com (www.dropbox.com)|162.125.3.18|:443... connected.\n",
            "HTTP request sent, awaiting response... 301 Moved Permanently\n",
            "Location: /s/dl/18dwbfth7prbf0h/darknet53.conv.74 [following]\n",
            "--2021-10-11 22:47:34--  https://www.dropbox.com/s/dl/18dwbfth7prbf0h/darknet53.conv.74\n",
            "Reusing existing connection to www.dropbox.com:443.\n",
            "HTTP request sent, awaiting response... 302 Found\n",
            "Location: https://uc0827355eedd19be4fdf273773a.dl.dropboxusercontent.com/cd/0/get/BX2Arw47xWDIWjyZY9kU9iQ3GEpMconfntauGfKIvnUTsMDrO8ATqN4J1A5-mcSOgAv7EdjDatwLaxxakBi2rJXdEQ8HfmzMaBlKR0aqlLAj1yZehd25UCC1sVqywBrNdmClDhou4QwAn0YPs6YJ7jdO/file?dl=1# [following]\n",
            "--2021-10-11 22:47:34--  https://uc0827355eedd19be4fdf273773a.dl.dropboxusercontent.com/cd/0/get/BX2Arw47xWDIWjyZY9kU9iQ3GEpMconfntauGfKIvnUTsMDrO8ATqN4J1A5-mcSOgAv7EdjDatwLaxxakBi2rJXdEQ8HfmzMaBlKR0aqlLAj1yZehd25UCC1sVqywBrNdmClDhou4QwAn0YPs6YJ7jdO/file?dl=1\n",
            "Resolving uc0827355eedd19be4fdf273773a.dl.dropboxusercontent.com (uc0827355eedd19be4fdf273773a.dl.dropboxusercontent.com)... 162.125.3.15, 2620:100:601b:15::a27d:80f\n",
            "Connecting to uc0827355eedd19be4fdf273773a.dl.dropboxusercontent.com (uc0827355eedd19be4fdf273773a.dl.dropboxusercontent.com)|162.125.3.15|:443... connected.\n",
            "HTTP request sent, awaiting response... 200 OK\n",
            "Length: 162482580 (155M) [application/binary]\n",
            "Saving to: ‘darknet53.conv.74’\n",
            "\n",
            "darknet53.conv.74   100%[===================>] 154.96M  77.1MB/s    in 2.0s    \n",
            "\n",
            "2021-10-11 22:47:37 (77.1 MB/s) - ‘darknet53.conv.74’ saved [162482580/162482580]\n",
            "\n"
          ]
        }
      ]
    },
    {
      "cell_type": "code",
      "metadata": {
        "id": "0gMgbe7jgobV"
      },
      "source": [
        "#Run the inference\n",
        "./../darknet/darknet detector test yolov3-mask-setup.data yolov3-mask-test.cfg ./maskbackup/yolov3-mask-train_best.weights ./../test/test-image1.jpg -thresh .6 -dont_show 2>/dev/null \n",
        "mv  predictions.jpg ./output/test-image1_pred.jpg\n",
        "\n",
        "./../darknet/darknet detector test yolov3-mask-setup.data yolov3-mask-test.cfg ./maskbackup/yolov3-mask-train_best.weights ./../test/test-image2.jpg -thresh .6 -dont_show 2>/dev/null \n",
        "mv  predictions.jpg ./output/test-image2_pred.jpg\n",
        "\n",
        "./../darknet/darknet detector test yolov3-mask-setup.data yolov3-mask-test.cfg ./maskbackup/yolov3-mask-train_best.weights ./../test/test-image3.jpg -thresh .6 -dont_show 2>/dev/null \n",
        "mv  predictions.jpg ./output/test-image3_pred.jpg\n",
        "\n",
        "./../darknet/darknet detector test yolov3-mask-setup.data yolov3-mask-test.cfg ./maskbackup/yolov3-mask-train_best.weights ./../test/test-image4.jpg -thresh .6 -dont_show 2>/dev/null \n",
        "mv  predictions.jpg ./output/test-image4_pred.jpg\n",
        "\n",
        "./../darknet/darknet detector demo yolov3-mask-setup.data yolov3-mask-test.cfg ./maskbackup/yolov3-mask-train_best.weights ./../test/test-video1.mp4 -thresh .6 -out_filename ./output/out-vid1.avi -dont_show\n",
        "\n",
        "\n",
        "./../darknet/darknet detector demo yolov3-mask-setup.data yolov3-mask-test.cfg ./maskbackup/yolov3-mask-train_best.weights ./../test/test-video2.mp4 -thresh .6 -out_filename ./output/out-vid2.avi -dont_show\n"
      ],
      "execution_count": null,
      "outputs": []
    },
    {
      "cell_type": "markdown",
      "metadata": {
        "id": "VwU7XiYJTSSu"
      },
      "source": [
        "# New Section"
      ]
    },
    {
      "cell_type": "markdown",
      "metadata": {
        "id": "O-2ilLm6TSsb"
      },
      "source": [
        "# New Section"
      ]
    }
  ]
}