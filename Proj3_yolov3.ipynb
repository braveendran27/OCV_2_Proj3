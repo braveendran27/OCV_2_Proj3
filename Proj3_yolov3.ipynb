{
  "nbformat": 4,
  "nbformat_minor": 0,
  "metadata": {
    "colab": {
      "name": "Proj3_yolov3",
      "provenance": [],
      "collapsed_sections": [],
      "authorship_tag": "ABX9TyP0dlQYwUa8nFePhRK0igkq",
      "include_colab_link": true
    },
    "kernelspec": {
      "name": "python3",
      "display_name": "Python 3"
    },
    "language_info": {
      "name": "python"
    }
  },
  "cells": [
    {
      "cell_type": "markdown",
      "metadata": {
        "id": "view-in-github",
        "colab_type": "text"
      },
      "source": [
        "<a href=\"https://colab.research.google.com/github/braveendran27/OCV_2_Proj3/blob/master/Proj3_yolov3.ipynb\" target=\"_parent\"><img src=\"https://colab.research.google.com/assets/colab-badge.svg\" alt=\"Open In Colab\"/></a>"
      ]
    },
    {
      "cell_type": "code",
      "metadata": {
        "colab": {
          "base_uri": "https://localhost:8080/"
        },
        "id": "7I-XHuFBTQ8M",
        "outputId": "162f077c-0fd7-447f-8c01-0865c780b2cd"
      },
      "source": [
        "from google.colab import drive\n",
        "drive.mount('/content/drive')\n",
        "\n",
        "# the notebook expects OpenCV/C2_P3 folder in My Driver\n",
        "%cd /content/drive/My\\ Drive/\n",
        "\n"
      ],
      "execution_count": 1,
      "outputs": [
        {
          "output_type": "stream",
          "name": "stdout",
          "text": [
            "Drive already mounted at /content/drive; to attempt to forcibly remount, call drive.mount(\"/content/drive\", force_remount=True).\n",
            "/content/drive/My Drive\n"
          ]
        }
      ]
    },
    {
      "cell_type": "code",
      "metadata": {
        "id": "xF8zae_AU1pZ",
        "colab": {
          "base_uri": "https://localhost:8080/",
          "height": 1000
        },
        "outputId": "f6e903c6-efc0-4ee2-ddb4-572324c24d74"
      },
      "source": [
        "#1. Downloading the repo \n",
        "#2. building darknet \n",
        "#3. downloading the trainign images and test images\n",
        "\n",
        "!git clone https://github.com/braveendran27/OCV_2_Proj3.git\n",
        "%cd OCV_2_Proj3\n",
        "\n",
        "#building darknet : Darknet source code is already included as a part of my repo\n",
        "%cd darknet\n",
        "!make &> build_log.txt\n",
        "%cd ..\n",
        "%pwd\n",
        "\n",
        "!mkdir mask_no-mask_dataset\n",
        "%cd mask_no-mask_dataset\n",
        "#get the training images\n",
        "!wget \"https://www.dropbox.com/s/uq0x32w70c390fb/mask_no-mask_dataset.zip?dl=1\" -O mask_no-mask_dataset.zip\n",
        "!unzip mask_no-mask_dataset.zip &> /dev/null\n",
        "%cd ..\n",
        "\n",
        "%cd test\n",
        "!wget \"https://www.dropbox.com/s/pds0w3z5y7w89oz/test-video1.mp4?dl=1\" -O ./test-video1.mp4\n",
        "!wget \"https://www.dropbox.com/s/sqwu0ktdtlxtdsd/test-video2.mp4?dl=1\" -O ./test-video2.mp4\n",
        "%cd ..\n",
        "\n"
      ],
      "execution_count": 2,
      "outputs": [
        {
          "output_type": "stream",
          "name": "stdout",
          "text": [
            "fatal: destination path 'OCV_2_Proj3' already exists and is not an empty directory.\n",
            "/content/drive/My Drive/OCV_2_Proj3\n",
            "/content/drive/My Drive/OCV_2_Proj3/darknet\n",
            "/content/drive/My Drive/OCV_2_Proj3\n",
            "mkdir: cannot create directory ‘mask_no-mask_dataset’: File exists\n",
            "/content/drive/My Drive/OCV_2_Proj3/mask_no-mask_dataset\n",
            "--2021-10-11 22:42:27--  https://www.dropbox.com/s/uq0x32w70c390fb/mask_no-mask_dataset.zip?dl=1\n",
            "Resolving www.dropbox.com (www.dropbox.com)... 162.125.65.18, 2620:100:6027:18::a27d:4812\n",
            "Connecting to www.dropbox.com (www.dropbox.com)|162.125.65.18|:443... connected.\n",
            "HTTP request sent, awaiting response... 301 Moved Permanently\n",
            "Location: /s/dl/uq0x32w70c390fb/mask_no-mask_dataset.zip [following]\n",
            "--2021-10-11 22:42:27--  https://www.dropbox.com/s/dl/uq0x32w70c390fb/mask_no-mask_dataset.zip\n",
            "Reusing existing connection to www.dropbox.com:443.\n",
            "HTTP request sent, awaiting response... 302 Found\n",
            "Location: https://ucc4a078b650a0a1a2ab7f5c0f06.dl.dropboxusercontent.com/cd/0/get/BX3wuHunvh3KnSrE_ZhaXcOrwSr3pJ-SWxI90numr_PDln_-YEUc6nALVnYEwcNc7Pkb0TzJI0vGZuKG-gavBvGmov1XBulBDLNogGhxnZV_eR7Lj8nwBVBg09GtxERcZm0o_Oz_-q5nVSW50ZNnX_mh/file?dl=1# [following]\n",
            "--2021-10-11 22:42:27--  https://ucc4a078b650a0a1a2ab7f5c0f06.dl.dropboxusercontent.com/cd/0/get/BX3wuHunvh3KnSrE_ZhaXcOrwSr3pJ-SWxI90numr_PDln_-YEUc6nALVnYEwcNc7Pkb0TzJI0vGZuKG-gavBvGmov1XBulBDLNogGhxnZV_eR7Lj8nwBVBg09GtxERcZm0o_Oz_-q5nVSW50ZNnX_mh/file?dl=1\n",
            "Resolving ucc4a078b650a0a1a2ab7f5c0f06.dl.dropboxusercontent.com (ucc4a078b650a0a1a2ab7f5c0f06.dl.dropboxusercontent.com)... 162.125.65.15, 2620:100:6027:15::a27d:480f\n",
            "Connecting to ucc4a078b650a0a1a2ab7f5c0f06.dl.dropboxusercontent.com (ucc4a078b650a0a1a2ab7f5c0f06.dl.dropboxusercontent.com)|162.125.65.15|:443... connected.\n",
            "HTTP request sent, awaiting response... 200 OK\n",
            "Length: 225433549 (215M) [application/binary]\n",
            "Saving to: ‘mask_no-mask_dataset.zip’\n",
            "\n",
            "mask_no-mask_datase 100%[===================>] 214.99M  16.1MB/s    in 13s     \n",
            "\n",
            "2021-10-11 22:42:42 (16.0 MB/s) - ‘mask_no-mask_dataset.zip’ saved [225433549/225433549]\n",
            "\n"
          ]
        },
        {
          "output_type": "stream",
          "name": "stderr",
          "text": [
            "ERROR:root:Internal Python error in the inspect module.\n",
            "Below is the traceback from this internal error.\n",
            "\n"
          ]
        },
        {
          "output_type": "stream",
          "name": "stdout",
          "text": [
            "Traceback (most recent call last):\n",
            "  File \"/usr/local/lib/python3.7/dist-packages/IPython/core/interactiveshell.py\", line 2882, in run_code\n",
            "    exec(code_obj, self.user_global_ns, self.user_ns)\n",
            "  File \"<ipython-input-2-71ea05cf9bcb>\", line 19, in <module>\n",
            "    get_ipython().magic('cd ..')\n",
            "  File \"/usr/local/lib/python3.7/dist-packages/IPython/core/interactiveshell.py\", line 2160, in magic\n",
            "    return self.run_line_magic(magic_name, magic_arg_s)\n",
            "  File \"/usr/local/lib/python3.7/dist-packages/IPython/core/interactiveshell.py\", line 2081, in run_line_magic\n",
            "    result = fn(*args,**kwargs)\n",
            "  File \"<decorator-gen-84>\", line 2, in cd\n",
            "  File \"/usr/local/lib/python3.7/dist-packages/IPython/core/magic.py\", line 188, in <lambda>\n",
            "    call = lambda f, *a, **k: f(*a, **k)\n",
            "  File \"/usr/local/lib/python3.7/dist-packages/IPython/core/magics/osm.py\", line 356, in cd\n",
            "    cwd = py3compat.getcwd()\n",
            "FileNotFoundError: [Errno 2] No such file or directory\n",
            "\n",
            "During handling of the above exception, another exception occurred:\n",
            "\n",
            "Traceback (most recent call last):\n",
            "  File \"/usr/local/lib/python3.7/dist-packages/IPython/core/interactiveshell.py\", line 1823, in showtraceback\n",
            "    stb = value._render_traceback_()\n",
            "AttributeError: 'FileNotFoundError' object has no attribute '_render_traceback_'\n",
            "\n",
            "During handling of the above exception, another exception occurred:\n",
            "\n",
            "Traceback (most recent call last):\n",
            "  File \"/usr/local/lib/python3.7/dist-packages/IPython/core/ultratb.py\", line 1132, in get_records\n",
            "    return _fixed_getinnerframes(etb, number_of_lines_of_context, tb_offset)\n",
            "  File \"/usr/local/lib/python3.7/dist-packages/IPython/core/ultratb.py\", line 313, in wrapped\n",
            "    return f(*args, **kwargs)\n",
            "  File \"/usr/local/lib/python3.7/dist-packages/IPython/core/ultratb.py\", line 358, in _fixed_getinnerframes\n",
            "    records = fix_frame_records_filenames(inspect.getinnerframes(etb, context))\n",
            "  File \"/usr/lib/python3.7/inspect.py\", line 1502, in getinnerframes\n",
            "    frameinfo = (tb.tb_frame,) + getframeinfo(tb, context)\n",
            "  File \"/usr/lib/python3.7/inspect.py\", line 1460, in getframeinfo\n",
            "    filename = getsourcefile(frame) or getfile(frame)\n",
            "  File \"/usr/lib/python3.7/inspect.py\", line 696, in getsourcefile\n",
            "    if getattr(getmodule(object, filename), '__loader__', None) is not None:\n",
            "  File \"/usr/lib/python3.7/inspect.py\", line 725, in getmodule\n",
            "    file = getabsfile(object, _filename)\n",
            "  File \"/usr/lib/python3.7/inspect.py\", line 709, in getabsfile\n",
            "    return os.path.normcase(os.path.abspath(_filename))\n",
            "  File \"/usr/lib/python3.7/posixpath.py\", line 383, in abspath\n",
            "    cwd = os.getcwd()\n",
            "FileNotFoundError: [Errno 2] No such file or directory\n"
          ]
        },
        {
          "output_type": "error",
          "ename": "FileNotFoundError",
          "evalue": "ignored",
          "traceback": [
            "\u001b[0;31m---------------------------------------------------------------------------\u001b[0m"
          ]
        }
      ]
    },
    {
      "cell_type": "code",
      "metadata": {
        "colab": {
          "base_uri": "https://localhost:8080/"
        },
        "id": "jpN6u4TJaeyp",
        "outputId": "9d17ad02-a53f-4353-f6c3-5b8df9bed2f3"
      },
      "source": [
        "#trainign yolo v3\n",
        "!cd yolov3/\n",
        "#download the initial weights darknet53.conv\n",
        "!wget \"https://www.dropbox.com/s/18dwbfth7prbf0h/darknet53.conv.74?dl=1\" -O darknet53.conv.74\n",
        "#start the training\n",
        "!./../darknet/darknet detector train yolov3-mask-setup.data yolov3-mask-train.cfg ./darknet53.conv.74 -dont_show -map 2> train_log.txt\n",
        "\n",
        "\n"
      ],
      "execution_count": 4,
      "outputs": [
        {
          "output_type": "stream",
          "name": "stdout",
          "text": [
            "/content/drive/My Drive/OCV_2_Proj3/test\n",
            "--2021-10-11 22:31:18--  https://www.dropbox.com/s/pds0w3z5y7w89oz/test-video1.mp4?dl=1\n",
            "Resolving www.dropbox.com (www.dropbox.com)... 162.125.65.18, 2620:100:6027:18::a27d:4812\n",
            "Connecting to www.dropbox.com (www.dropbox.com)|162.125.65.18|:443... connected.\n",
            "HTTP request sent, awaiting response... 301 Moved Permanently\n",
            "Location: /s/dl/pds0w3z5y7w89oz/test-video1.mp4 [following]\n",
            "--2021-10-11 22:31:19--  https://www.dropbox.com/s/dl/pds0w3z5y7w89oz/test-video1.mp4\n",
            "Reusing existing connection to www.dropbox.com:443.\n",
            "HTTP request sent, awaiting response... 302 Found\n",
            "Location: https://ucfc926e1b3aec32aebddfdf5f5f.dl.dropboxusercontent.com/cd/0/get/BX1gm3o0mNiTFNb89D9_bx0Oa5ew0e6A97n5Mqg4nt5ccEdAO74-cBacVWlrmBdnn6LCvFJHz7033f5_W_dBY2JdqibO5AdCya3IJjlFW5OVHcvPOK3RddUM9JdmJGA0drd4e1_251ouSQHAewkEtf0k/file?dl=1# [following]\n",
            "--2021-10-11 22:31:19--  https://ucfc926e1b3aec32aebddfdf5f5f.dl.dropboxusercontent.com/cd/0/get/BX1gm3o0mNiTFNb89D9_bx0Oa5ew0e6A97n5Mqg4nt5ccEdAO74-cBacVWlrmBdnn6LCvFJHz7033f5_W_dBY2JdqibO5AdCya3IJjlFW5OVHcvPOK3RddUM9JdmJGA0drd4e1_251ouSQHAewkEtf0k/file?dl=1\n",
            "Resolving ucfc926e1b3aec32aebddfdf5f5f.dl.dropboxusercontent.com (ucfc926e1b3aec32aebddfdf5f5f.dl.dropboxusercontent.com)... 162.125.2.15, 2620:100:6027:15::a27d:480f\n",
            "Connecting to ucfc926e1b3aec32aebddfdf5f5f.dl.dropboxusercontent.com (ucfc926e1b3aec32aebddfdf5f5f.dl.dropboxusercontent.com)|162.125.2.15|:443... connected.\n",
            "HTTP request sent, awaiting response... 200 OK\n",
            "Length: 19670909 (19M) [application/binary]\n",
            "Saving to: ‘./test-video1.mp4’\n",
            "\n",
            "./test-video1.mp4   100%[===================>]  18.76M  9.88MB/s    in 1.9s    \n",
            "\n",
            "2021-10-11 22:31:22 (9.88 MB/s) - ‘./test-video1.mp4’ saved [19670909/19670909]\n",
            "\n",
            "--2021-10-11 22:31:22--  https://www.dropbox.com/s/sqwu0ktdtlxtdsd/test-video2.mp4?dl=1\n",
            "Resolving www.dropbox.com (www.dropbox.com)... 162.125.65.18, 2620:100:6027:18::a27d:4812\n",
            "Connecting to www.dropbox.com (www.dropbox.com)|162.125.65.18|:443... connected.\n",
            "HTTP request sent, awaiting response... 301 Moved Permanently\n",
            "Location: /s/dl/sqwu0ktdtlxtdsd/test-video2.mp4 [following]\n",
            "--2021-10-11 22:31:22--  https://www.dropbox.com/s/dl/sqwu0ktdtlxtdsd/test-video2.mp4\n",
            "Reusing existing connection to www.dropbox.com:443.\n",
            "HTTP request sent, awaiting response... 302 Found\n",
            "Location: https://ucdc5f2fa7c327f8dcf236eb7d72.dl.dropboxusercontent.com/cd/0/get/BX3l43_R5MsgR--BMzXna5sKEQEHc3f3vZ4j90wJcKxO5pNR2AmGyf2QThr_tM9uYSLd2OHaFjO0Rr0dGaprJh0nOBvFrS8W1Am-8T3BP7Y2jj65t0uZHviErpMnJ9YHokJNqFMCoOo-_xexFQbTbi4c/file?dl=1# [following]\n",
            "--2021-10-11 22:31:23--  https://ucdc5f2fa7c327f8dcf236eb7d72.dl.dropboxusercontent.com/cd/0/get/BX3l43_R5MsgR--BMzXna5sKEQEHc3f3vZ4j90wJcKxO5pNR2AmGyf2QThr_tM9uYSLd2OHaFjO0Rr0dGaprJh0nOBvFrS8W1Am-8T3BP7Y2jj65t0uZHviErpMnJ9YHokJNqFMCoOo-_xexFQbTbi4c/file?dl=1\n",
            "Resolving ucdc5f2fa7c327f8dcf236eb7d72.dl.dropboxusercontent.com (ucdc5f2fa7c327f8dcf236eb7d72.dl.dropboxusercontent.com)... 162.125.65.15, 2620:100:6027:15::a27d:480f\n",
            "Connecting to ucdc5f2fa7c327f8dcf236eb7d72.dl.dropboxusercontent.com (ucdc5f2fa7c327f8dcf236eb7d72.dl.dropboxusercontent.com)|162.125.65.15|:443... connected.\n",
            "HTTP request sent, awaiting response... 200 OK\n",
            "Length: 40890863 (39M) [application/binary]\n",
            "Saving to: ‘./test-video2.mp4’\n",
            "\n",
            "./test-video2.mp4   100%[===================>]  39.00M  17.4MB/s    in 2.2s    \n",
            "\n",
            "2021-10-11 22:31:26 (17.4 MB/s) - ‘./test-video2.mp4’ saved [40890863/40890863]\n",
            "\n",
            "/content/drive/My Drive/OCV_2_Proj3\n"
          ]
        }
      ]
    },
    {
      "cell_type": "code",
      "metadata": {
        "id": "0gMgbe7jgobV"
      },
      "source": [
        "#Run the inference\n",
        "./../darknet/darknet detector test yolov3-mask-setup.data yolov3-mask-test.cfg ./maskbackup/yolov3-mask-train_best.weights ./../test/test-image1.jpg -thresh .6 -dont_show 2>/dev/null \n",
        "mv  predictions.jpg ./output/test-image1_pred.jpg\n",
        "\n",
        "./../darknet/darknet detector test yolov3-mask-setup.data yolov3-mask-test.cfg ./maskbackup/yolov3-mask-train_best.weights ./../test/test-image2.jpg -thresh .6 -dont_show 2>/dev/null \n",
        "mv  predictions.jpg ./output/test-image2_pred.jpg\n",
        "\n",
        "./../darknet/darknet detector test yolov3-mask-setup.data yolov3-mask-test.cfg ./maskbackup/yolov3-mask-train_best.weights ./../test/test-image3.jpg -thresh .6 -dont_show 2>/dev/null \n",
        "mv  predictions.jpg ./output/test-image3_pred.jpg\n",
        "\n",
        "./../darknet/darknet detector test yolov3-mask-setup.data yolov3-mask-test.cfg ./maskbackup/yolov3-mask-train_best.weights ./../test/test-image4.jpg -thresh .6 -dont_show 2>/dev/null \n",
        "mv  predictions.jpg ./output/test-image4_pred.jpg\n",
        "\n",
        "./../darknet/darknet detector demo yolov3-mask-setup.data yolov3-mask-test.cfg ./maskbackup/yolov3-mask-train_best.weights ./../test/test-video1.mp4 -thresh .6 -out_filename ./output/out-vid1.avi -dont_show\n",
        "\n",
        "\n",
        "./../darknet/darknet detector demo yolov3-mask-setup.data yolov3-mask-test.cfg ./maskbackup/yolov3-mask-train_best.weights ./../test/test-video2.mp4 -thresh .6 -out_filename ./output/out-vid2.avi -dont_show\n"
      ],
      "execution_count": null,
      "outputs": []
    },
    {
      "cell_type": "markdown",
      "metadata": {
        "id": "VwU7XiYJTSSu"
      },
      "source": [
        "# New Section"
      ]
    },
    {
      "cell_type": "markdown",
      "metadata": {
        "id": "O-2ilLm6TSsb"
      },
      "source": [
        "# New Section"
      ]
    }
  ]
}