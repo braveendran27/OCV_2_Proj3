{
  "nbformat": 4,
  "nbformat_minor": 0,
  "metadata": {
    "colab": {
      "name": "Proj3_yolov3",
      "provenance": [],
      "collapsed_sections": [],
      "authorship_tag": "ABX9TyN9vVVLuUInw2EXGwlCEaP/",
      "include_colab_link": true
    },
    "kernelspec": {
      "name": "python3",
      "display_name": "Python 3"
    },
    "language_info": {
      "name": "python"
    },
    "accelerator": "GPU"
  },
  "cells": [
    {
      "cell_type": "markdown",
      "metadata": {
        "id": "view-in-github",
        "colab_type": "text"
      },
      "source": [
        "<a href=\"https://colab.research.google.com/github/braveendran27/OCV_2_Proj3/blob/master/Proj3_yolov3.ipynb\" target=\"_parent\"><img src=\"https://colab.research.google.com/assets/colab-badge.svg\" alt=\"Open In Colab\"/></a>"
      ]
    },
    {
      "cell_type": "code",
      "metadata": {
        "colab": {
          "base_uri": "https://localhost:8080/"
        },
        "id": "7I-XHuFBTQ8M",
        "outputId": "77cf7d42-91a9-4cea-9bf3-d1df2d46dd10"
      },
      "source": [
        "from google.colab import drive\n",
        "drive.mount('/content/drive')\n",
        "\n",
        "# the notebook expects OpenCV/C2_P3 folder in My Driver\n",
        "%cd /content/drive/My\\ Drive/\n",
        "\n"
      ],
      "execution_count": 1,
      "outputs": [
        {
          "output_type": "stream",
          "name": "stdout",
          "text": [
            "Mounted at /content/drive\n",
            "/content/drive/My Drive\n"
          ]
        }
      ]
    },
    {
      "cell_type": "code",
      "metadata": {
        "id": "xF8zae_AU1pZ",
        "colab": {
          "base_uri": "https://localhost:8080/"
        },
        "outputId": "7919343d-e235-436e-f8f1-aa8762fa59ed"
      },
      "source": [
        "#1. Downloading the repo \n",
        "#2. building darknet \n",
        "#3. downloading the trainign images and test images\n",
        "\n",
        "!git clone https://github.com/braveendran27/OCV_2_Proj3.git\n",
        "%cd OCV_2_Proj3\n",
        "\n",
        "\n",
        "\n",
        "\n"
      ],
      "execution_count": 2,
      "outputs": [
        {
          "output_type": "stream",
          "name": "stdout",
          "text": [
            "Cloning into 'OCV_2_Proj3'...\n",
            "remote: Enumerating objects: 292, done.\u001b[K\n",
            "remote: Counting objects: 100% (292/292), done.\u001b[K\n",
            "remote: Compressing objects: 100% (233/233), done.\u001b[K\n",
            "remote: Total 292 (delta 60), reused 272 (delta 47), pack-reused 0\u001b[K\n",
            "Receiving objects: 100% (292/292), 6.91 MiB | 8.93 MiB/s, done.\n",
            "Resolving deltas: 100% (60/60), done.\n",
            "/content/drive/My Drive/OCV_2_Proj3\n"
          ]
        }
      ]
    },
    {
      "cell_type": "code",
      "metadata": {
        "id": "N7IV5IX5tp1D",
        "colab": {
          "base_uri": "https://localhost:8080/"
        },
        "outputId": "4b14ead9-0dc5-475c-ca8c-5a6e77c08c9f"
      },
      "source": [
        "#building darknet : Darknet source code is already included as a part of my repo\n",
        "!git clone https://github.com/AlexeyAB/darknet.git\n",
        "%cd darknet\n",
        "!sed -i 's/OPENCV=0/OPENCV=1/' Makefile\n",
        "!sed -i 's/GPU=0/GPU=1/' Makefile\n",
        "!sed -i 's/CUDNN=0/CUDNN=1/' Makefile\n",
        "print(\"Building. . . It might take 2 minutes\")\n",
        "!make &> build_log.txt\n",
        "print(\"Build completed.\")\n",
        "%cd .."
      ],
      "execution_count": 3,
      "outputs": [
        {
          "output_type": "stream",
          "name": "stdout",
          "text": [
            "Cloning into 'darknet'...\n",
            "remote: Enumerating objects: 15316, done.\u001b[K\n",
            "remote: Total 15316 (delta 0), reused 0 (delta 0), pack-reused 15316\u001b[K\n",
            "Receiving objects: 100% (15316/15316), 13.71 MiB | 5.16 MiB/s, done.\n",
            "Resolving deltas: 100% (10406/10406), done.\n",
            "Checking out files: 100% (2043/2043), done.\n",
            "/content/drive/My Drive/OCV_2_Proj3/darknet\n",
            "Building. . . It might take 2 minutes\n",
            "Build completed.\n",
            "/content/drive/My Drive/OCV_2_Proj3\n"
          ]
        }
      ]
    },
    {
      "cell_type": "code",
      "metadata": {
        "id": "3_08eqYxoZ43",
        "colab": {
          "base_uri": "https://localhost:8080/"
        },
        "outputId": "395a74a4-179b-46e5-cd4a-ca30523a9beb"
      },
      "source": [
        "\n",
        "!mkdir mask_no-mask_dataset\n",
        "%cd mask_no-mask_dataset\n",
        "#get the training images\n",
        "!wget \"https://www.dropbox.com/s/uq0x32w70c390fb/mask_no-mask_dataset.zip?dl=1\" -O mask_no-mask_dataset.zip\n",
        "!unzip mask_no-mask_dataset.zip &> /dev/null\n",
        "%cd ..\n",
        "\n",
        "%cd test\n",
        "!wget \"https://www.dropbox.com/s/pds0w3z5y7w89oz/test-video1.mp4?dl=1\" -O ./test-video1.mp4\n",
        "!wget \"https://www.dropbox.com/s/sqwu0ktdtlxtdsd/test-video2.mp4?dl=1\" -O ./test-video2.mp4\n",
        "%cd .."
      ],
      "execution_count": 4,
      "outputs": [
        {
          "output_type": "stream",
          "name": "stdout",
          "text": [
            "/content/drive/My Drive/OCV_2_Proj3/mask_no-mask_dataset\n",
            "--2021-10-11 23:50:24--  https://www.dropbox.com/s/uq0x32w70c390fb/mask_no-mask_dataset.zip?dl=1\n",
            "Resolving www.dropbox.com (www.dropbox.com)... 162.125.81.18, 2620:100:6035:18::a27d:5512\n",
            "Connecting to www.dropbox.com (www.dropbox.com)|162.125.81.18|:443... connected.\n",
            "HTTP request sent, awaiting response... 301 Moved Permanently\n",
            "Location: /s/dl/uq0x32w70c390fb/mask_no-mask_dataset.zip [following]\n",
            "--2021-10-11 23:50:24--  https://www.dropbox.com/s/dl/uq0x32w70c390fb/mask_no-mask_dataset.zip\n",
            "Reusing existing connection to www.dropbox.com:443.\n",
            "HTTP request sent, awaiting response... 302 Found\n",
            "Location: https://uc8c65fcab8884a240ceff603a46.dl.dropboxusercontent.com/cd/0/get/BX0l8vl9VmHzwpKgbVQmDRwh8Hg4eShZ9LjJBmd8QRZsR4iGWy3Qk5zOap5N3MnXIwmEq_iuzVy_uJjFUstibKsmDgn30nI3D8BEQ45CGvyH4UNOaRfzszQZ3sPKyRFmGKc532Arj-Mjo58411xhT5v9/file?dl=1# [following]\n",
            "--2021-10-11 23:50:25--  https://uc8c65fcab8884a240ceff603a46.dl.dropboxusercontent.com/cd/0/get/BX0l8vl9VmHzwpKgbVQmDRwh8Hg4eShZ9LjJBmd8QRZsR4iGWy3Qk5zOap5N3MnXIwmEq_iuzVy_uJjFUstibKsmDgn30nI3D8BEQ45CGvyH4UNOaRfzszQZ3sPKyRFmGKc532Arj-Mjo58411xhT5v9/file?dl=1\n",
            "Resolving uc8c65fcab8884a240ceff603a46.dl.dropboxusercontent.com (uc8c65fcab8884a240ceff603a46.dl.dropboxusercontent.com)... 162.125.81.15, 2620:100:6035:15::a27d:550f\n",
            "Connecting to uc8c65fcab8884a240ceff603a46.dl.dropboxusercontent.com (uc8c65fcab8884a240ceff603a46.dl.dropboxusercontent.com)|162.125.81.15|:443... connected.\n",
            "HTTP request sent, awaiting response... 200 OK\n",
            "Length: 225433549 (215M) [application/binary]\n",
            "Saving to: ‘mask_no-mask_dataset.zip’\n",
            "\n",
            "mask_no-mask_datase 100%[===================>] 214.99M  11.7MB/s    in 23s     \n",
            "\n",
            "2021-10-11 23:50:50 (9.16 MB/s) - ‘mask_no-mask_dataset.zip’ saved [225433549/225433549]\n",
            "\n",
            "/content/drive/My Drive/OCV_2_Proj3\n",
            "/content/drive/My Drive/OCV_2_Proj3/test\n",
            "--2021-10-11 23:51:26--  https://www.dropbox.com/s/pds0w3z5y7w89oz/test-video1.mp4?dl=1\n",
            "Resolving www.dropbox.com (www.dropbox.com)... 162.125.80.18, 2620:100:6035:18::a27d:5512\n",
            "Connecting to www.dropbox.com (www.dropbox.com)|162.125.80.18|:443... connected.\n",
            "HTTP request sent, awaiting response... 301 Moved Permanently\n",
            "Location: /s/dl/pds0w3z5y7w89oz/test-video1.mp4 [following]\n",
            "--2021-10-11 23:51:26--  https://www.dropbox.com/s/dl/pds0w3z5y7w89oz/test-video1.mp4\n",
            "Reusing existing connection to www.dropbox.com:443.\n",
            "HTTP request sent, awaiting response... 302 Found\n",
            "Location: https://uc21d5b67008923e0c436c964446.dl.dropboxusercontent.com/cd/0/get/BX1QU5c3YPU4gF9q9GFyURhlSU8a3J0grsMLkiqjH2BMtNO-g1UHFWzm3Z4B9vr8WUrW4szNvEcz9t3PHKpdnfdb1H71zl-uDXOBoT3rePCEcKbHcOlg9TiPyCwZiDSpkq6vQsTRyH8_bp7Ilpb3iX7l/file?dl=1# [following]\n",
            "--2021-10-11 23:51:26--  https://uc21d5b67008923e0c436c964446.dl.dropboxusercontent.com/cd/0/get/BX1QU5c3YPU4gF9q9GFyURhlSU8a3J0grsMLkiqjH2BMtNO-g1UHFWzm3Z4B9vr8WUrW4szNvEcz9t3PHKpdnfdb1H71zl-uDXOBoT3rePCEcKbHcOlg9TiPyCwZiDSpkq6vQsTRyH8_bp7Ilpb3iX7l/file?dl=1\n",
            "Resolving uc21d5b67008923e0c436c964446.dl.dropboxusercontent.com (uc21d5b67008923e0c436c964446.dl.dropboxusercontent.com)... 162.125.81.15, 2620:100:6035:15::a27d:550f\n",
            "Connecting to uc21d5b67008923e0c436c964446.dl.dropboxusercontent.com (uc21d5b67008923e0c436c964446.dl.dropboxusercontent.com)|162.125.81.15|:443... connected.\n",
            "HTTP request sent, awaiting response... 200 OK\n",
            "Length: 19670909 (19M) [application/binary]\n",
            "Saving to: ‘./test-video1.mp4’\n",
            "\n",
            "./test-video1.mp4   100%[===================>]  18.76M  9.42MB/s    in 2.0s    \n",
            "\n",
            "2021-10-11 23:51:29 (9.42 MB/s) - ‘./test-video1.mp4’ saved [19670909/19670909]\n",
            "\n",
            "--2021-10-11 23:51:29--  https://www.dropbox.com/s/sqwu0ktdtlxtdsd/test-video2.mp4?dl=1\n",
            "Resolving www.dropbox.com (www.dropbox.com)... 162.125.80.18, 2620:100:6035:18::a27d:5512\n",
            "Connecting to www.dropbox.com (www.dropbox.com)|162.125.80.18|:443... connected.\n",
            "HTTP request sent, awaiting response... 301 Moved Permanently\n",
            "Location: /s/dl/sqwu0ktdtlxtdsd/test-video2.mp4 [following]\n",
            "--2021-10-11 23:51:30--  https://www.dropbox.com/s/dl/sqwu0ktdtlxtdsd/test-video2.mp4\n",
            "Reusing existing connection to www.dropbox.com:443.\n",
            "HTTP request sent, awaiting response... 302 Found\n",
            "Location: https://ucedd76b64c05c06825311ed3c32.dl.dropboxusercontent.com/cd/0/get/BX1pPoH29d1Rx9Iy6BuBWa16RSDMeKQu1vVCtXtdpIJrL6AIvM0K4piuhjngjvyAVRXaKpzYaGxOVscJF3ySfrBG2fKlXWaOHQZhZqs70Y2f8UtBaeJ8ImwNJWcOMEi7hp6CeQ84OCTCan1QYywRWjUo/file?dl=1# [following]\n",
            "--2021-10-11 23:51:30--  https://ucedd76b64c05c06825311ed3c32.dl.dropboxusercontent.com/cd/0/get/BX1pPoH29d1Rx9Iy6BuBWa16RSDMeKQu1vVCtXtdpIJrL6AIvM0K4piuhjngjvyAVRXaKpzYaGxOVscJF3ySfrBG2fKlXWaOHQZhZqs70Y2f8UtBaeJ8ImwNJWcOMEi7hp6CeQ84OCTCan1QYywRWjUo/file?dl=1\n",
            "Resolving ucedd76b64c05c06825311ed3c32.dl.dropboxusercontent.com (ucedd76b64c05c06825311ed3c32.dl.dropboxusercontent.com)... 162.125.81.15, 2620:100:6035:15::a27d:550f\n",
            "Connecting to ucedd76b64c05c06825311ed3c32.dl.dropboxusercontent.com (ucedd76b64c05c06825311ed3c32.dl.dropboxusercontent.com)|162.125.81.15|:443... connected.\n",
            "HTTP request sent, awaiting response... 200 OK\n",
            "Length: 40890863 (39M) [application/binary]\n",
            "Saving to: ‘./test-video2.mp4’\n",
            "\n",
            "./test-video2.mp4   100%[===================>]  39.00M  11.3MB/s    in 4.0s    \n",
            "\n",
            "2021-10-11 23:51:35 (9.65 MB/s) - ‘./test-video2.mp4’ saved [40890863/40890863]\n",
            "\n",
            "/content/drive/My Drive/OCV_2_Proj3\n"
          ]
        }
      ]
    },
    {
      "cell_type": "code",
      "metadata": {
        "colab": {
          "base_uri": "https://localhost:8080/"
        },
        "id": "jpN6u4TJaeyp",
        "outputId": "706b65f1-ad0f-472d-c2aa-b41e19cc3b62"
      },
      "source": [
        "#trainign yolo v3\n",
        "%cd yolov3/\n",
        "#download the initial weights darknet53.conv\n",
        "!wget \"https://www.dropbox.com/s/18dwbfth7prbf0h/darknet53.conv.74?dl=1\" -O darknet53.conv.74\n",
        "#start the training\n",
        "!./../darknet/darknet detector train yolov3-mask-setup.data yolov3-mask-train.cfg ./darknet53.conv.74 -dont_show -map 2> train_log.txt\n",
        "\n",
        "\n"
      ],
      "execution_count": null,
      "outputs": [
        {
          "output_type": "stream",
          "name": "stdout",
          "text": [
            "/content/drive/My Drive/OCV_2_Proj3/yolov3\n",
            "--2021-10-11 23:52:50--  https://www.dropbox.com/s/18dwbfth7prbf0h/darknet53.conv.74?dl=1\n",
            "Resolving www.dropbox.com (www.dropbox.com)... 162.125.81.18, 2620:100:6035:18::a27d:5512\n",
            "Connecting to www.dropbox.com (www.dropbox.com)|162.125.81.18|:443... connected.\n",
            "HTTP request sent, awaiting response... 301 Moved Permanently\n",
            "Location: /s/dl/18dwbfth7prbf0h/darknet53.conv.74 [following]\n",
            "--2021-10-11 23:52:50--  https://www.dropbox.com/s/dl/18dwbfth7prbf0h/darknet53.conv.74\n",
            "Reusing existing connection to www.dropbox.com:443.\n",
            "HTTP request sent, awaiting response... 302 Found\n",
            "Location: https://uc00a17ce7b9c1bb2d17eb1ff52c.dl.dropboxusercontent.com/cd/0/get/BX054wzF4vwdFw_EPz6vo-axJ2JD2OSmjzTx-fN6F5gm-BiqDq1cxgBS9ZXvNLwWTD23LiM1wRqXtdGkwLZikc-De4e5GOVaLNZivDpyDNmMdRi7TSyUMhCk-O9oQtebx0b0X-r74ti-koqZsqcMssA6/file?dl=1# [following]\n",
            "--2021-10-11 23:52:51--  https://uc00a17ce7b9c1bb2d17eb1ff52c.dl.dropboxusercontent.com/cd/0/get/BX054wzF4vwdFw_EPz6vo-axJ2JD2OSmjzTx-fN6F5gm-BiqDq1cxgBS9ZXvNLwWTD23LiM1wRqXtdGkwLZikc-De4e5GOVaLNZivDpyDNmMdRi7TSyUMhCk-O9oQtebx0b0X-r74ti-koqZsqcMssA6/file?dl=1\n",
            "Resolving uc00a17ce7b9c1bb2d17eb1ff52c.dl.dropboxusercontent.com (uc00a17ce7b9c1bb2d17eb1ff52c.dl.dropboxusercontent.com)... 162.125.81.15, 2620:100:6035:15::a27d:550f\n",
            "Connecting to uc00a17ce7b9c1bb2d17eb1ff52c.dl.dropboxusercontent.com (uc00a17ce7b9c1bb2d17eb1ff52c.dl.dropboxusercontent.com)|162.125.81.15|:443... connected.\n",
            "HTTP request sent, awaiting response... 200 OK\n",
            "Length: 162482580 (155M) [application/binary]\n",
            "Saving to: ‘darknet53.conv.74’\n",
            "\n",
            "darknet53.conv.74   100%[===================>] 154.96M  8.96MB/s    in 14s     \n",
            "\n",
            "2021-10-11 23:53:06 (10.9 MB/s) - ‘darknet53.conv.74’ saved [162482580/162482580]\n",
            "\n",
            " Prepare additional network for mAP calculation...\n",
            "net.optimized_memory = 0 \n",
            "mini_batch = 1, batch = 32, time_steps = 1, train = 0 \n",
            "Create CUDA-stream - 0 \n",
            " Create cudnn-handle 0 \n",
            "\n",
            " Error: in the file class.names number of names 3 that isn't equal to classes=2 in the file yolov3-mask-train.cfg \n",
            "yolov3-mask-train\n",
            "net.optimized_memory = 0 \n",
            "mini_batch = 2, batch = 64, time_steps = 1, train = 1 \n",
            "\n",
            " seen 64, trained: 0 K-images (0 Kilo-batches_64) \n",
            "Learning Rate: 0.0001, Momentum: 0.9, Decay: 0.0005\n",
            " Detection layer: 82 - type = 28 \n",
            " Detection layer: 94 - type = 28 \n",
            " Detection layer: 106 - type = 28 \n",
            "Resizing, random_coef = 1.40 \n",
            "\n",
            " 608 x 608 \n",
            " try to allocate additional workspace_size = 13.31 MB \n",
            " CUDA allocate done! \n",
            "Loaded: 0.000057 seconds\n",
            "\n",
            " (next mAP calculation at 200 iterations) \n",
            " 1: 7389.687012, 7389.687012 avg loss, 0.000000 rate, 30.629409 seconds, 64 images, -1.000000 hours left\n",
            "Loaded: 0.000049 seconds\n",
            "\n",
            " (next mAP calculation at 200 iterations) \n",
            " 2: 7387.851074, 7389.503418 avg loss, 0.000000 rate, 30.346308 seconds, 128 images, 34.024260 hours left\n",
            "Loaded: 0.000059 seconds\n",
            "\n",
            " (next mAP calculation at 200 iterations) \n",
            " 3: 7394.653320, 7390.018555 avg loss, 0.000000 rate, 30.395240 seconds, 192 images, 34.021031 hours left\n",
            "Loaded: 0.000049 seconds\n"
          ]
        }
      ]
    },
    {
      "cell_type": "code",
      "metadata": {
        "id": "0gMgbe7jgobV"
      },
      "source": [
        "#Run the inference\n",
        "!./../darknet/darknet detector test yolov3-mask-setup.data yolov3-mask-test.cfg ./maskbackup/yolov3-mask-train_best.weights ./../test/test-image1.jpg -thresh .6 -dont_show 2>/dev/null \n",
        "mv  predictions.jpg ./output/test-image1_pred.jpg\n",
        "\n",
        "!./../darknet/darknet detector test yolov3-mask-setup.data yolov3-mask-test.cfg ./maskbackup/yolov3-mask-train_best.weights ./../test/test-image2.jpg -thresh .6 -dont_show 2>/dev/null \n",
        "mv  predictions.jpg ./output/test-image2_pred.jpg\n",
        "\n",
        "!./../darknet/darknet detector test yolov3-mask-setup.data yolov3-mask-test.cfg ./maskbackup/yolov3-mask-train_best.weights ./../test/test-image3.jpg -thresh .6 -dont_show 2>/dev/null \n",
        "mv  predictions.jpg ./output/test-image3_pred.jpg\n",
        "\n",
        "!./../darknet/darknet detector test yolov3-mask-setup.data yolov3-mask-test.cfg ./maskbackup/yolov3-mask-train_best.weights ./../test/test-image4.jpg -thresh .6 -dont_show 2>/dev/null \n",
        "mv  predictions.jpg ./output/test-image4_pred.jpg\n",
        "\n",
        "!./../darknet/darknet detector demo yolov3-mask-setup.data yolov3-mask-test.cfg ./maskbackup/yolov3-mask-train_best.weights ./../test/test-video1.mp4 -thresh .6 -out_filename ./output/out-vid1.avi -dont_show\n",
        "\n",
        "\n",
        "!./../darknet/darknet detector demo yolov3-mask-setup.data yolov3-mask-test.cfg ./maskbackup/yolov3-mask-train_best.weights ./../test/test-video2.mp4 -thresh .6 -out_filename ./output/out-vid2.avi -dont_show\n"
      ],
      "execution_count": null,
      "outputs": []
    },
    {
      "cell_type": "markdown",
      "metadata": {
        "id": "VwU7XiYJTSSu"
      },
      "source": [
        "# New Section"
      ]
    },
    {
      "cell_type": "markdown",
      "metadata": {
        "id": "O-2ilLm6TSsb"
      },
      "source": [
        "# New Section"
      ]
    }
  ]
}