{
  "nbformat": 4,
  "nbformat_minor": 0,
  "metadata": {
    "colab": {
      "name": "Proj3_yolov3",
      "provenance": [],
      "collapsed_sections": [],
      "authorship_tag": "ABX9TyM5k0AVhKZlMa/X7mNMRlq/",
      "include_colab_link": true
    },
    "kernelspec": {
      "name": "python3",
      "display_name": "Python 3"
    },
    "language_info": {
      "name": "python"
    }
  },
  "cells": [
    {
      "cell_type": "markdown",
      "metadata": {
        "id": "view-in-github",
        "colab_type": "text"
      },
      "source": [
        "<a href=\"https://colab.research.google.com/github/braveendran27/OCV_2_Proj3/blob/master/Proj3_yolov3.ipynb\" target=\"_parent\"><img src=\"https://colab.research.google.com/assets/colab-badge.svg\" alt=\"Open In Colab\"/></a>"
      ]
    },
    {
      "cell_type": "code",
      "metadata": {
        "colab": {
          "base_uri": "https://localhost:8080/"
        },
        "id": "7I-XHuFBTQ8M",
        "outputId": "6d3993a8-9b82-4aec-f964-2981d2862a6c"
      },
      "source": [
        "from google.colab import drive\n",
        "drive.mount('/content/drive')\n",
        "\n",
        "# the notebook expects OpenCV/C2_P3 folder in My Driver\n",
        "%cd /content/drive/My\\ Drive/\n",
        "\n"
      ],
      "execution_count": 3,
      "outputs": [
        {
          "output_type": "stream",
          "name": "stdout",
          "text": [
            "Mounted at /content/drive\n",
            "/content/drive/My Drive/OpenCV/C2_P3\n"
          ]
        }
      ]
    },
    {
      "cell_type": "code",
      "metadata": {
        "id": "xF8zae_AU1pZ"
      },
      "source": [
        "!git clone https://github.com/braveendran27/OCV_2_Proj3.git\n",
        "cd OCV_2_Proj3\n",
        "\n",
        "!git clone https://github.com/AlexeyAB/darknet.git\n",
        "%cd darknet\n",
        "!sed -i 's/OPENCV=0/OPENCV=1/' Makefile\n",
        "!sed -i 's/GPU=0/GPU=1/' Makefile\n",
        "!sed -i 's/CUDNN=0/CUDNN=1/' Makefile\n",
        "!make &> build_log.txt\n",
        "\n",
        "!cd ..\n",
        "\n",
        "!wget \"https://www.dropbox.com/s/uq0x32w70c390fb/mask_no-mask_dataset.zip?dl=1\" -O mask_no-mask_dataset.zip\n",
        "!unzip mask_no-mask_dataset.zip &> /dev/null\n",
        "\n",
        "# the repo contains the jpg files . the video files needs to be downloaded\n",
        "cd test\n",
        "\n",
        "!wget \"https://www.dropbox.com/s/pds0w3z5y7w89oz/test-video1.mp4?dl=1\"\n",
        "!wget \"https://www.dropbox.com/s/sqwu0ktdtlxtdsd/test-video2.mp4?dl=1\"\n"
      ],
      "execution_count": null,
      "outputs": []
    },
    {
      "cell_type": "code",
      "metadata": {
        "id": "jpN6u4TJaeyp"
      },
      "source": [
        "\n",
        "\n"
      ],
      "execution_count": null,
      "outputs": []
    },
    {
      "cell_type": "markdown",
      "metadata": {
        "id": "VwU7XiYJTSSu"
      },
      "source": [
        "# New Section"
      ]
    },
    {
      "cell_type": "markdown",
      "metadata": {
        "id": "O-2ilLm6TSsb"
      },
      "source": [
        "# New Section"
      ]
    }
  ]
}