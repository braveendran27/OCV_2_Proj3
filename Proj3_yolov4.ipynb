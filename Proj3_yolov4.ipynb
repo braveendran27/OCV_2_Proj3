{
  "nbformat": 4,
  "nbformat_minor": 0,
  "metadata": {
    "colab": {
      "name": "Proj3_yolov4",
      "provenance": [],
      "collapsed_sections": [],
      "authorship_tag": "ABX9TyPNB50yCqm6s1QKrHgHNs1l",
      "include_colab_link": true
    },
    "kernelspec": {
      "name": "python3",
      "display_name": "Python 3"
    },
    "language_info": {
      "name": "python"
    },
    "accelerator": "GPU"
  },
  "cells": [
    {
      "cell_type": "markdown",
      "metadata": {
        "id": "view-in-github",
        "colab_type": "text"
      },
      "source": [
        "<a href=\"https://colab.research.google.com/github/braveendran27/OCV_2_Proj3/blob/master/Proj3_yolov4.ipynb\" target=\"_parent\"><img src=\"https://colab.research.google.com/assets/colab-badge.svg\" alt=\"Open In Colab\"/></a>"
      ]
    },
    {
      "cell_type": "code",
      "metadata": {
        "colab": {
          "base_uri": "https://localhost:8080/"
        },
        "id": "7I-XHuFBTQ8M",
        "outputId": "2395027f-f765-4d00-b8ee-6dfc8d78cac6"
      },
      "source": [
        "from google.colab import drive\n",
        "drive.mount('/content/drive')\n",
        "\n",
        "# the notebook expects OpenCV/C2_P3 folder in My Driver\n",
        "%cd /content/drive/My\\ Drive/\n",
        "\n"
      ],
      "execution_count": null,
      "outputs": [
        {
          "output_type": "stream",
          "name": "stdout",
          "text": [
            "Mounted at /content/drive\n",
            "/content/drive/My Drive\n"
          ]
        }
      ]
    },
    {
      "cell_type": "code",
      "metadata": {
        "id": "xF8zae_AU1pZ",
        "colab": {
          "base_uri": "https://localhost:8080/"
        },
        "outputId": "4835aa56-c529-4176-b5c9-1f4fd4ce9f4b"
      },
      "source": [
        "#1. Downloading the repo \n",
        "#2. building darknet \n",
        "#3. downloading the trainign images and test images\n",
        "\n",
        "!git clone https://github.com/braveendran27/OCV_2_Proj3.git\n",
        "%cd OCV_2_Proj3\n",
        "\n",
        "\n",
        "\n",
        "\n"
      ],
      "execution_count": null,
      "outputs": [
        {
          "output_type": "stream",
          "name": "stdout",
          "text": [
            "Cloning into 'OCV_2_Proj3'...\n",
            "remote: Enumerating objects: 301, done.\u001b[K\n",
            "remote: Counting objects: 100% (301/301), done.\u001b[K\n",
            "remote: Compressing objects: 100% (242/242), done.\u001b[K\n",
            "remote: Total 301 (delta 66), reused 273 (delta 47), pack-reused 0\u001b[K\n",
            "Receiving objects: 100% (301/301), 6.91 MiB | 9.13 MiB/s, done.\n",
            "Resolving deltas: 100% (66/66), done.\n",
            "/content/drive/My Drive/OCV_2_Proj3\n"
          ]
        }
      ]
    },
    {
      "cell_type": "code",
      "metadata": {
        "id": "N7IV5IX5tp1D",
        "colab": {
          "base_uri": "https://localhost:8080/"
        },
        "outputId": "44a3c7ac-3155-418e-ed7a-3dd7f76ad687"
      },
      "source": [
        "#building darknet : Darknet source code is already included as a part of my repo\n",
        "!git clone https://github.com/AlexeyAB/darknet.git\n",
        "%cd darknet\n",
        "!sed -i 's/OPENCV=0/OPENCV=1/' Makefile\n",
        "!sed -i 's/GPU=0/GPU=1/' Makefile\n",
        "!sed -i 's/CUDNN=0/CUDNN=1/' Makefile\n",
        "print(\"Building. . . It might take 2 minutes\")\n",
        "!make &> build_log.txt\n",
        "print(\"Build completed.\")\n",
        "%cd .."
      ],
      "execution_count": null,
      "outputs": [
        {
          "output_type": "stream",
          "name": "stdout",
          "text": [
            "Cloning into 'darknet'...\n",
            "remote: Enumerating objects: 15316, done.\u001b[K\n",
            "remote: Total 15316 (delta 0), reused 0 (delta 0), pack-reused 15316\u001b[K\n",
            "Receiving objects: 100% (15316/15316), 13.70 MiB | 5.37 MiB/s, done.\n",
            "Resolving deltas: 100% (10407/10407), done.\n",
            "Checking out files: 100% (2043/2043), done.\n",
            "/content/drive/My Drive/OCV_2_Proj3/darknet\n",
            "Building. . . It might take 2 minutes\n",
            "Build completed.\n",
            "/content/drive/My Drive/OCV_2_Proj3\n"
          ]
        }
      ]
    },
    {
      "cell_type": "code",
      "metadata": {
        "id": "3_08eqYxoZ43",
        "colab": {
          "base_uri": "https://localhost:8080/"
        },
        "outputId": "6d0be64c-e411-459d-b6a8-377056699f9c"
      },
      "source": [
        "\n",
        "!mkdir mask_no-mask_dataset\n",
        "%cd mask_no-mask_dataset\n",
        "#get the training images\n",
        "!wget \"https://www.dropbox.com/s/uq0x32w70c390fb/mask_no-mask_dataset.zip?dl=1\" -O mask_no-mask_dataset.zip\n",
        "!unzip mask_no-mask_dataset.zip &> /dev/null\n",
        "%cd ..\n",
        "\n",
        "%cd test\n",
        "!wget \"https://www.dropbox.com/s/pds0w3z5y7w89oz/test-video1.mp4?dl=1\" -O ./test-video1.mp4\n",
        "!wget \"https://www.dropbox.com/s/sqwu0ktdtlxtdsd/test-video2.mp4?dl=1\" -O ./test-video2.mp4\n",
        "%cd .."
      ],
      "execution_count": null,
      "outputs": [
        {
          "output_type": "stream",
          "name": "stdout",
          "text": [
            "/content/drive/My Drive/OCV_2_Proj3/mask_no-mask_dataset\n",
            "--2021-10-12 00:02:16--  https://www.dropbox.com/s/uq0x32w70c390fb/mask_no-mask_dataset.zip?dl=1\n",
            "Resolving www.dropbox.com (www.dropbox.com)... 162.125.3.18, 2620:100:601b:18::a27d:812\n",
            "Connecting to www.dropbox.com (www.dropbox.com)|162.125.3.18|:443... connected.\n",
            "HTTP request sent, awaiting response... 301 Moved Permanently\n",
            "Location: /s/dl/uq0x32w70c390fb/mask_no-mask_dataset.zip [following]\n",
            "--2021-10-12 00:02:16--  https://www.dropbox.com/s/dl/uq0x32w70c390fb/mask_no-mask_dataset.zip\n",
            "Reusing existing connection to www.dropbox.com:443.\n",
            "HTTP request sent, awaiting response... 302 Found\n",
            "Location: https://ucdd99aff7545592bcb54463c31a.dl.dropboxusercontent.com/cd/0/get/BX3olp0zYQACo1VvWPgOHlUoKIL_c4EdGAS4IQfCQKz8qMUJEG2evD2ExtElBQgD32YAtlBD6A8kZOdHRMsNLI3ogTIwc5exvJoOT578EPEqrHxc29hO1zOBssox6Gn76Moy8Hm4ktozk0jQINHJrx1N/file?dl=1# [following]\n",
            "--2021-10-12 00:02:17--  https://ucdd99aff7545592bcb54463c31a.dl.dropboxusercontent.com/cd/0/get/BX3olp0zYQACo1VvWPgOHlUoKIL_c4EdGAS4IQfCQKz8qMUJEG2evD2ExtElBQgD32YAtlBD6A8kZOdHRMsNLI3ogTIwc5exvJoOT578EPEqrHxc29hO1zOBssox6Gn76Moy8Hm4ktozk0jQINHJrx1N/file?dl=1\n",
            "Resolving ucdd99aff7545592bcb54463c31a.dl.dropboxusercontent.com (ucdd99aff7545592bcb54463c31a.dl.dropboxusercontent.com)... 162.125.5.15, 2620:100:6018:15::a27d:30f\n",
            "Connecting to ucdd99aff7545592bcb54463c31a.dl.dropboxusercontent.com (ucdd99aff7545592bcb54463c31a.dl.dropboxusercontent.com)|162.125.5.15|:443... connected.\n",
            "HTTP request sent, awaiting response... 200 OK\n",
            "Length: 225433549 (215M) [application/binary]\n",
            "Saving to: ‘mask_no-mask_dataset.zip’\n",
            "\n",
            "mask_no-mask_datase 100%[===================>] 214.99M  35.6MB/s    in 6.3s    \n",
            "\n",
            "2021-10-12 00:02:24 (34.4 MB/s) - ‘mask_no-mask_dataset.zip’ saved [225433549/225433549]\n",
            "\n",
            "/content/drive/My Drive/OCV_2_Proj3\n",
            "/content/drive/My Drive/OCV_2_Proj3/test\n",
            "--2021-10-12 00:03:03--  https://www.dropbox.com/s/pds0w3z5y7w89oz/test-video1.mp4?dl=1\n",
            "Resolving www.dropbox.com (www.dropbox.com)... 162.125.3.18, 2620:100:601b:18::a27d:812\n",
            "Connecting to www.dropbox.com (www.dropbox.com)|162.125.3.18|:443... connected.\n",
            "HTTP request sent, awaiting response... 301 Moved Permanently\n",
            "Location: /s/dl/pds0w3z5y7w89oz/test-video1.mp4 [following]\n",
            "--2021-10-12 00:03:04--  https://www.dropbox.com/s/dl/pds0w3z5y7w89oz/test-video1.mp4\n",
            "Reusing existing connection to www.dropbox.com:443.\n",
            "HTTP request sent, awaiting response... 302 Found\n",
            "Location: https://uc4057fd4ce9cbc8ec24adf5a07a.dl.dropboxusercontent.com/cd/0/get/BX1IdT9wXMbP9mvqMlIpoqqR5dSv_NpQfQNCLKIEEuU6aOncnHdw9sP_8T5U5NInP8r-GiarLsgxSrah5ppMIctw-68vJT5eSqqdVcZoPE6kyzJJ8L_Pv0VbF6ag7ngk6VCkaMebi2q8uU3i90uyxkfn/file?dl=1# [following]\n",
            "--2021-10-12 00:03:04--  https://uc4057fd4ce9cbc8ec24adf5a07a.dl.dropboxusercontent.com/cd/0/get/BX1IdT9wXMbP9mvqMlIpoqqR5dSv_NpQfQNCLKIEEuU6aOncnHdw9sP_8T5U5NInP8r-GiarLsgxSrah5ppMIctw-68vJT5eSqqdVcZoPE6kyzJJ8L_Pv0VbF6ag7ngk6VCkaMebi2q8uU3i90uyxkfn/file?dl=1\n",
            "Resolving uc4057fd4ce9cbc8ec24adf5a07a.dl.dropboxusercontent.com (uc4057fd4ce9cbc8ec24adf5a07a.dl.dropboxusercontent.com)... 162.125.3.15, 2620:100:6018:15::a27d:30f\n",
            "Connecting to uc4057fd4ce9cbc8ec24adf5a07a.dl.dropboxusercontent.com (uc4057fd4ce9cbc8ec24adf5a07a.dl.dropboxusercontent.com)|162.125.3.15|:443... connected.\n",
            "HTTP request sent, awaiting response... 200 OK\n",
            "Length: 19670909 (19M) [application/binary]\n",
            "Saving to: ‘./test-video1.mp4’\n",
            "\n",
            "./test-video1.mp4   100%[===================>]  18.76M  34.2MB/s    in 0.5s    \n",
            "\n",
            "2021-10-12 00:03:05 (34.2 MB/s) - ‘./test-video1.mp4’ saved [19670909/19670909]\n",
            "\n",
            "--2021-10-12 00:03:05--  https://www.dropbox.com/s/sqwu0ktdtlxtdsd/test-video2.mp4?dl=1\n",
            "Resolving www.dropbox.com (www.dropbox.com)... 162.125.3.18, 2620:100:601b:18::a27d:812\n",
            "Connecting to www.dropbox.com (www.dropbox.com)|162.125.3.18|:443... connected.\n",
            "HTTP request sent, awaiting response... 301 Moved Permanently\n",
            "Location: /s/dl/sqwu0ktdtlxtdsd/test-video2.mp4 [following]\n",
            "--2021-10-12 00:03:05--  https://www.dropbox.com/s/dl/sqwu0ktdtlxtdsd/test-video2.mp4\n",
            "Reusing existing connection to www.dropbox.com:443.\n",
            "HTTP request sent, awaiting response... 302 Found\n",
            "Location: https://uc7423ccfeed7184fe9fce5fb5e2.dl.dropboxusercontent.com/cd/0/get/BX0hxT3uJ0KDuIZ3XFoyo04M-ByO8FvMPCGVwsEZDP9TTovjal1ArF1ZrFGKZ9iIoblKQ_bhY52EG2WmNvj01mn44C4w6CjOZla-biCwoEg-jL7lap7jw3xhg_DIwv4OAoyq_yQ-KeIkOXufhZUX7Ozg/file?dl=1# [following]\n",
            "--2021-10-12 00:03:05--  https://uc7423ccfeed7184fe9fce5fb5e2.dl.dropboxusercontent.com/cd/0/get/BX0hxT3uJ0KDuIZ3XFoyo04M-ByO8FvMPCGVwsEZDP9TTovjal1ArF1ZrFGKZ9iIoblKQ_bhY52EG2WmNvj01mn44C4w6CjOZla-biCwoEg-jL7lap7jw3xhg_DIwv4OAoyq_yQ-KeIkOXufhZUX7Ozg/file?dl=1\n",
            "Resolving uc7423ccfeed7184fe9fce5fb5e2.dl.dropboxusercontent.com (uc7423ccfeed7184fe9fce5fb5e2.dl.dropboxusercontent.com)... 162.125.3.15, 2620:100:6030:15::a27d:500f\n",
            "Connecting to uc7423ccfeed7184fe9fce5fb5e2.dl.dropboxusercontent.com (uc7423ccfeed7184fe9fce5fb5e2.dl.dropboxusercontent.com)|162.125.3.15|:443... connected.\n",
            "HTTP request sent, awaiting response... 200 OK\n",
            "Length: 40890863 (39M) [application/binary]\n",
            "Saving to: ‘./test-video2.mp4’\n",
            "\n",
            "./test-video2.mp4   100%[===================>]  39.00M  38.7MB/s    in 1.0s    \n",
            "\n",
            "2021-10-12 00:03:07 (38.7 MB/s) - ‘./test-video2.mp4’ saved [40890863/40890863]\n",
            "\n",
            "/content/drive/My Drive/OCV_2_Proj3\n"
          ]
        }
      ]
    },
    {
      "cell_type": "code",
      "metadata": {
        "colab": {
          "base_uri": "https://localhost:8080/"
        },
        "id": "jpN6u4TJaeyp",
        "outputId": "2b52c357-3ec4-4a23-f6ee-05318b1db9cd"
      },
      "source": [
        "#trainign yolo v4\n",
        "%cd yolov4/\n",
        "!mkdir maskbackup\n",
        "!mkdir output\n",
        "#download the initial weights darknet53.conv\n",
        "!curl -c ./cookie -s -L \"https://drive.google.com/uc?export=download&id=1JKF-bdIklxOOVy-2Cr5qdvjgGpmGfcbp\" > /dev/null\n",
        "!curl -Lb ./cookie \"https://drive.google.com/uc?export=download&confirm=`awk '/download/ {print $NF}' ./cookie`&id=1JKF-bdIklxOOVy-2Cr5qdvjgGpmGfcbp\" -o yolov4.conv.137\n",
        "#start the training\n",
        "!./../darknet/darknet detector train yolov4-mask-setup.data yolov4-obj.cfg ./yolov4.conv.137 -dont_show -map 2> train_log.txt\n",
        "\n",
        "\n"
      ],
      "execution_count": null,
      "outputs": [
        {
          "output_type": "stream",
          "name": "stdout",
          "text": [
            "/content/drive/My Drive/OCV_2_Proj3/yolov3\n",
            "--2021-10-12 00:03:12--  https://www.dropbox.com/s/18dwbfth7prbf0h/darknet53.conv.74?dl=1\n",
            "Resolving www.dropbox.com (www.dropbox.com)... 162.125.3.18, 2620:100:601b:18::a27d:812\n",
            "Connecting to www.dropbox.com (www.dropbox.com)|162.125.3.18|:443... connected.\n",
            "HTTP request sent, awaiting response... 301 Moved Permanently\n",
            "Location: /s/dl/18dwbfth7prbf0h/darknet53.conv.74 [following]\n",
            "--2021-10-12 00:03:12--  https://www.dropbox.com/s/dl/18dwbfth7prbf0h/darknet53.conv.74\n",
            "Reusing existing connection to www.dropbox.com:443.\n",
            "HTTP request sent, awaiting response... 302 Found\n",
            "Location: https://ucc930f1a4a0033e46811d29b2d8.dl.dropboxusercontent.com/cd/0/get/BX35C3IFHgzGigGARHqEGDaJxbXEoADNOrxm6ItZ3lKTtlR7Ac7y6TkPhZGqmTH0QF9Cw3rL1oS9Cc9fFOeDB656U3UJVouOHqKZvRcqMQwWFRg_TuFMIuASPMZilr28TzAzkLyhUHn2pOmJ54Nxuz1_/file?dl=1# [following]\n",
            "--2021-10-12 00:03:12--  https://ucc930f1a4a0033e46811d29b2d8.dl.dropboxusercontent.com/cd/0/get/BX35C3IFHgzGigGARHqEGDaJxbXEoADNOrxm6ItZ3lKTtlR7Ac7y6TkPhZGqmTH0QF9Cw3rL1oS9Cc9fFOeDB656U3UJVouOHqKZvRcqMQwWFRg_TuFMIuASPMZilr28TzAzkLyhUHn2pOmJ54Nxuz1_/file?dl=1\n",
            "Resolving ucc930f1a4a0033e46811d29b2d8.dl.dropboxusercontent.com (ucc930f1a4a0033e46811d29b2d8.dl.dropboxusercontent.com)... 162.125.3.15, 2620:100:6018:15::a27d:30f\n",
            "Connecting to ucc930f1a4a0033e46811d29b2d8.dl.dropboxusercontent.com (ucc930f1a4a0033e46811d29b2d8.dl.dropboxusercontent.com)|162.125.3.15|:443... connected.\n",
            "HTTP request sent, awaiting response... 200 OK\n",
            "Length: 162482580 (155M) [application/binary]\n",
            "Saving to: ‘darknet53.conv.74’\n",
            "\n",
            "darknet53.conv.74   100%[===================>] 154.96M  35.2MB/s    in 4.5s    \n",
            "\n",
            "2021-10-12 00:03:17 (34.8 MB/s) - ‘darknet53.conv.74’ saved [162482580/162482580]\n",
            "\n",
            " Prepare additional network for mAP calculation...\n",
            "net.optimized_memory = 0 \n",
            "mini_batch = 1, batch = 32, time_steps = 1, train = 0 \n",
            "Create CUDA-stream - 0 \n",
            " Create cudnn-handle 0 \n",
            "yolov3-mask-train\n",
            "net.optimized_memory = 0 \n",
            "mini_batch = 2, batch = 64, time_steps = 1, train = 1 \n",
            "\n",
            " seen 64, trained: 0 K-images (0 Kilo-batches_64) \n",
            "Learning Rate: 0.0001, Momentum: 0.9, Decay: 0.0005\n",
            " Detection layer: 82 - type = 28 \n",
            " Detection layer: 94 - type = 28 \n",
            " Detection layer: 106 - type = 28 \n",
            "Resizing, random_coef = 1.40 \n",
            "\n",
            " 608 x 608 \n",
            " try to allocate additional workspace_size = 13.31 MB \n",
            " CUDA allocate done! \n",
            "Loaded: 0.000053 seconds\n",
            "\n",
            " (next mAP calculation at 200 iterations) \n",
            " 1: 6958.817383, 6958.817383 avg loss, 0.000000 rate, 28.102118 seconds, 64 images, -1.000000 hours left\n",
            "Loaded: 0.000046 seconds\n",
            "\n",
            " (next mAP calculation at 200 iterations) \n",
            " 2: 6957.300781, 6958.665527 avg loss, 0.000000 rate, 28.523705 seconds, 128 images, 31.216855 hours left\n",
            "Loaded: 0.000082 seconds\n",
            "\n",
            " (next mAP calculation at 200 iterations) \n",
            " 3: 6958.762695, 6958.675293 avg loss, 0.000000 rate, 28.764490 seconds, 192 images, 31.221459 hours left\n",
            "Loaded: 0.000047 seconds\n",
            "\n",
            " (next mAP calculation at 200 iterations) \n",
            " 4: 6956.521484, 6958.459961 avg loss, 0.000000 rate, 29.402511 seconds, 256 images, 31.228611 hours left\n",
            "Loaded: 0.000054 seconds\n",
            "\n",
            " (next mAP calculation at 200 iterations) \n",
            " 5: 6955.670410, 6958.181152 avg loss, 0.000000 rate, 29.124313 seconds, 320 images, 31.242694 hours left\n",
            "Loaded: 0.000049 seconds\n",
            "\n",
            " (next mAP calculation at 200 iterations) \n",
            " 6: 6954.490723, 6957.812012 avg loss, 0.000000 rate, 29.089877 seconds, 384 images, 31.253467 hours left\n",
            "Loaded: 0.000046 seconds\n",
            "\n",
            " (next mAP calculation at 200 iterations) \n",
            " 7: 6957.272949, 6957.758301 avg loss, 0.000000 rate, 28.969789 seconds, 448 images, 31.263669 hours left\n",
            "Loaded: 0.000056 seconds\n",
            "\n",
            " (next mAP calculation at 200 iterations) \n",
            " 8: 6958.458984, 6957.828125 avg loss, 0.000000 rate, 28.679962 seconds, 512 images, 31.272356 hours left\n",
            "Loaded: 0.000049 seconds\n",
            "\n",
            " (next mAP calculation at 200 iterations) \n",
            " 9: 6952.148438, 6957.260254 avg loss, 0.000000 rate, 29.400521 seconds, 576 images, 31.277663 hours left\n",
            "Loaded: 0.000058 seconds\n",
            "\n",
            " (next mAP calculation at 200 iterations) \n",
            " 10: 6949.305176, 6956.464844 avg loss, 0.000000 rate, 29.617710 seconds, 640 images, 31.290824 hours left\n",
            "Resizing, random_coef = 1.40 \n",
            "\n",
            " 544 x 544 \n",
            " try to allocate additional workspace_size = 10.65 MB \n",
            " CUDA allocate done! \n",
            "Loaded: 0.257908 seconds - performance bottleneck on CPU or Disk HDD/SSD\n",
            "\n",
            " (next mAP calculation at 200 iterations) \n",
            " 11: 5553.974609, 6816.215820 avg loss, 0.000000 rate, 24.071095 seconds, 704 images, 31.306180 hours left\n",
            "Loaded: 0.000049 seconds\n",
            "\n",
            " (next mAP calculation at 200 iterations) \n",
            " 12: 5547.200684, 6689.314453 avg loss, 0.000000 rate, 24.316381 seconds, 768 images, 31.262698 hours left\n",
            "Loaded: 0.000043 seconds\n",
            "\n",
            " (next mAP calculation at 200 iterations) \n",
            " 13: 5527.098633, 6573.092773 avg loss, 0.000000 rate, 24.006772 seconds, 832 images, 31.219443 hours left\n",
            "Loaded: 0.000052 seconds\n",
            "\n",
            " (next mAP calculation at 200 iterations) \n",
            " 14: 5512.956543, 6467.079102 avg loss, 0.000000 rate, 23.736480 seconds, 896 images, 31.173124 hours left\n",
            "Loaded: 0.000052 seconds\n",
            "\n",
            " (next mAP calculation at 200 iterations) \n",
            " 15: 5482.610352, 6368.632324 avg loss, 0.000000 rate, 24.030492 seconds, 960 images, 31.124209 hours left\n",
            "Loaded: 0.000048 seconds\n",
            "\n",
            " (next mAP calculation at 200 iterations) \n",
            " 16: 5448.816406, 6276.650879 avg loss, 0.000000 rate, 24.757262 seconds, 1024 images, 31.078972 hours left\n",
            "Loaded: 0.000050 seconds\n",
            "\n",
            " (next mAP calculation at 200 iterations) \n",
            " 17: 5397.944336, 6188.780273 avg loss, 0.000000 rate, 23.953736 seconds, 1088 images, 31.042164 hours left\n",
            "Loaded: 0.000047 seconds\n",
            "\n",
            " (next mAP calculation at 200 iterations) \n",
            " 18: 5333.959473, 6103.298340 avg loss, 0.000000 rate, 24.004685 seconds, 1152 images, 30.996765 hours left\n",
            "Loaded: 0.000033 seconds\n",
            "\n",
            " (next mAP calculation at 200 iterations) \n",
            " 19: 5252.375488, 6018.206055 avg loss, 0.000000 rate, 23.834006 seconds, 1216 images, 30.952316 hours left\n",
            "Loaded: 0.000049 seconds\n",
            "\n",
            " (next mAP calculation at 200 iterations) \n",
            " 20: 5156.077148, 5931.993164 avg loss, 0.000000 rate, 23.825116 seconds, 1280 images, 30.906358 hours left\n",
            "Resizing, random_coef = 1.40 \n",
            "\n",
            " 576 x 576 \n",
            " try to allocate additional workspace_size = 11.94 MB \n",
            " CUDA allocate done! \n",
            "Loaded: 0.000051 seconds\n",
            "\n",
            " (next mAP calculation at 200 iterations) \n",
            " 21: 5650.381836, 5903.832031 avg loss, 0.000000 rate, 26.352740 seconds, 1344 images, 30.860695 hours left\n",
            "Loaded: 0.000035 seconds\n",
            "\n",
            " (next mAP calculation at 200 iterations) \n",
            " 22: 5483.122070, 5861.761230 avg loss, 0.000000 rate, 26.347318 seconds, 1408 images, 30.843360 hours left\n",
            "Loaded: 0.000044 seconds\n",
            "\n",
            " (next mAP calculation at 200 iterations) \n",
            " 23: 5295.281250, 5805.113281 avg loss, 0.000000 rate, 26.743554 seconds, 1472 images, 30.826065 hours left\n",
            "Loaded: 0.000047 seconds\n",
            "\n",
            " (next mAP calculation at 200 iterations) \n",
            " 24: 5061.564941, 5730.758301 avg loss, 0.000000 rate, 26.474616 seconds, 1536 images, 30.813247 hours left\n",
            "Loaded: 0.000049 seconds\n"
          ]
        }
      ]
    },
    {
      "cell_type": "code",
      "metadata": {
        "id": "0gMgbe7jgobV"
      },
      "source": [
        "#Run the inference\n",
        "!./../darknet/darknet detector test yolov4-mask-setup.data yolov4-test.cfg ./maskbackup/yolov4-obj_best.weights ./../test/test-image1.jpg -thresh .6 -dont_show\n",
        "!mv  predictions.jpg ./output/test-image1_pred.jpg\n",
        "\n",
        "!./../darknet/darknet detector test yolov4-mask-setup.data yolov4-test.cfg ./maskbackup/yolov4-obj_best.weights ./../test/test-image2.jpg -thresh .6 -dont_show\n",
        "!mv  predictions.jpg ./output/test-image2_pred.jpg\n",
        "\n",
        "!./../darknet/darknet detector test yolov4-mask-setup.data yolov4-test.cfg ./maskbackup/yolov4-obj_best.weights ./../test/test-image3.jpg -thresh .6 -dont_show\n",
        "!mv  predictions.jpg ./output/test-image3_pred.jpg\n",
        "\n",
        "!./../darknet/darknet detector test yolov4-mask-setup.data yolov4-test.cfg ./maskbackup/yolov4-obj_best.weights ./../test/test-image4.jpg -thresh .6 -dont_show\n",
        "!mv  predictions.jpg ./output/test-image4_pred.jpg\n",
        "\n",
        "!./../darknet/darknet detector demo yolov4-mask-setup.data yolov4-test.cfg ./maskbackup/yolov4-obj_best.weights ./../test/test-video1.mp4 -thresh .6 -out_filename ./output/out-vid1.avi -dont_show\n",
        "\n",
        "\n",
        "!./../darknet/darknet detector demo yolov4-mask-setup.data yolov4-test.cfg ./maskbackup/yolov4-obj_best.weights ./../test/test-video2.mp4 -thresh .6 -out_filename ./output/out-vid2.avi -dont_show"
      ],
      "execution_count": null,
      "outputs": []
    },
    {
      "cell_type": "markdown",
      "metadata": {
        "id": "VwU7XiYJTSSu"
      },
      "source": [
        "# New Section"
      ]
    },
    {
      "cell_type": "markdown",
      "metadata": {
        "id": "O-2ilLm6TSsb"
      },
      "source": [
        "# New Section"
      ]
    }
  ]
}